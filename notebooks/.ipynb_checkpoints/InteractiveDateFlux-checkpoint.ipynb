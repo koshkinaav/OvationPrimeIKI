{
 "cells": [
  {
   "cell_type": "code",
   "execution_count": 1,
   "metadata": {
    "scrolled": false,
    "ExecuteTime": {
     "end_time": "2023-10-22T10:05:07.841991Z",
     "start_time": "2023-10-22T10:05:06.969738Z"
    }
   },
   "outputs": [
    {
     "name": "stdout",
     "output_type": "stream",
     "text": [
      "%pylab is deprecated, use %matplotlib inline and import the required libraries.\n",
      "Populating the interactive namespace from numpy and matplotlib\n",
      "Solar wind data files will be saved to /Users/a.konkin/Library/Application Support/nasaomnireader\n",
      "\n",
      "------------IMPORTANT----------------------------\n",
      "Unable to import spacepy. Will fall back to\n",
      "using Omni text files, which may have slightly\n",
      "different data and incomplete metadata\n",
      "-------------------------------------------------\n"
     ]
    },
    {
     "name": "stderr",
     "output_type": "stream",
     "text": [
      "/Users/a.konkin/PycharmProjects/OvationPyme/venv/lib/python3.9/site-packages/urllib3/__init__.py:34: NotOpenSSLWarning: urllib3 v2.0 only supports OpenSSL 1.1.1+, currently the 'ssl' module is compiled with 'LibreSSL 2.8.3'. See: https://github.com/urllib3/urllib3/issues/3020\n",
      "  warnings.warn(\n"
     ]
    },
    {
     "data": {
      "text/plain": "IntText(value=2010, description='Year')",
      "application/vnd.jupyter.widget-view+json": {
       "version_major": 2,
       "version_minor": 0,
       "model_id": "38f75d8152ac4f31ba6c3923062321bb"
      }
     },
     "metadata": {},
     "output_type": "display_data"
    },
    {
     "data": {
      "text/plain": "IntText(value=5, description='Month')",
      "application/vnd.jupyter.widget-view+json": {
       "version_major": 2,
       "version_minor": 0,
       "model_id": "29ce079ce4c14ad0ab6119bea55f90f5"
      }
     },
     "metadata": {},
     "output_type": "display_data"
    },
    {
     "data": {
      "text/plain": "IntText(value=29, description='Day')",
      "application/vnd.jupyter.widget-view+json": {
       "version_major": 2,
       "version_minor": 0,
       "model_id": "208a86c60be5483e8ec9c972de579728"
      }
     },
     "metadata": {},
     "output_type": "display_data"
    },
    {
     "data": {
      "text/plain": "IntText(value=12, description='Hour')",
      "application/vnd.jupyter.widget-view+json": {
       "version_major": 2,
       "version_minor": 0,
       "model_id": "2b980f60ee764afdaae51be9b3a25f0f"
      }
     },
     "metadata": {},
     "output_type": "display_data"
    },
    {
     "data": {
      "text/plain": "IntText(value=0, description='Minute')",
      "application/vnd.jupyter.widget-view+json": {
       "version_major": 2,
       "version_minor": 0,
       "model_id": "04aadd33542541858d8c5e7f9342619b"
      }
     },
     "metadata": {},
     "output_type": "display_data"
    },
    {
     "data": {
      "text/plain": "Dropdown(description='Type of Aurora', options=('diff', 'mono', 'wave', 'ions'), value='diff')",
      "application/vnd.jupyter.widget-view+json": {
       "version_major": 2,
       "version_minor": 0,
       "model_id": "8f648d6174e34b509c5f4cab08306910"
      }
     },
     "metadata": {},
     "output_type": "display_data"
    },
    {
     "data": {
      "text/plain": "Dropdown(description='Type of Flux', options=('energy', 'number', 'average energy'), value='energy')",
      "application/vnd.jupyter.widget-view+json": {
       "version_major": 2,
       "version_minor": 0,
       "model_id": "51dc1ae4afd34676be2c254238d27343"
      }
     },
     "metadata": {},
     "output_type": "display_data"
    },
    {
     "data": {
      "text/plain": "ToggleButton(value=False, description='Correction')",
      "application/vnd.jupyter.widget-view+json": {
       "version_major": 2,
       "version_minor": 0,
       "model_id": "bf7adef6e5564a79b19a861041bb34bf"
      }
     },
     "metadata": {},
     "output_type": "display_data"
    },
    {
     "data": {
      "text/plain": "ToggleButton(value=True, description='Combine N&S')",
      "application/vnd.jupyter.widget-view+json": {
       "version_major": 2,
       "version_minor": 0,
       "model_id": "d3209cab8fd7456da967a4ad90092d08"
      }
     },
     "metadata": {},
     "output_type": "display_data"
    },
    {
     "data": {
      "text/plain": "FloatText(value=-1.0, description='Newell Coupling (-1 to use date)')",
      "application/vnd.jupyter.widget-view+json": {
       "version_major": 2,
       "version_minor": 0,
       "model_id": "3a66cad0db3049d8adc457dcce52402f"
      }
     },
     "metadata": {},
     "output_type": "display_data"
    },
    {
     "data": {
      "text/plain": "FloatText(value=-1.0, description='Colorbar Min (-1 is Autoscale)')",
      "application/vnd.jupyter.widget-view+json": {
       "version_major": 2,
       "version_minor": 0,
       "model_id": "2c7ff273f0a14cb1a94afc7bc34549fc"
      }
     },
     "metadata": {},
     "output_type": "display_data"
    },
    {
     "data": {
      "text/plain": "FloatText(value=-1.0, description='Colorbar Max (-1 is Autoscale)')",
      "application/vnd.jupyter.widget-view+json": {
       "version_major": 2,
       "version_minor": 0,
       "model_id": "ee563f9de02040cb9ce6c943364fe8e6"
      }
     },
     "metadata": {},
     "output_type": "display_data"
    },
    {
     "data": {
      "text/plain": "Button(description='Calculate', style=ButtonStyle())",
      "application/vnd.jupyter.widget-view+json": {
       "version_major": 2,
       "version_minor": 0,
       "model_id": "b9d45069dfbf433db06ded868a33023c"
      }
     },
     "metadata": {},
     "output_type": "display_data"
    }
   ],
   "source": [
    "%pylab inline\n",
    "import numpy as np\n",
    "import matplotlib.pyplot as plt\n",
    "from ovationpyme.ovation_prime import FluxEstimator,AverageEnergyEstimator,BinCorrector\n",
    "from ovationpyme.ovation_utilities import calc_avg_solarwind\n",
    "from ovationpyme.ovation_plotting import latlt2polar,polar2dial,pcolor_flux\n",
    "import ipywidgets\n",
    "import datetime\n",
    "from collections import OrderedDict\n",
    "from functools import partial\n",
    "\n",
    "auroral_types = ['diff','mono','wave','ions']\n",
    "flux_types = [\n",
    "                \"energy\",\n",
    "                \"number\",\n",
    "                \"average energy\"\n",
    "            ]\n",
    "\n",
    "def plot_date_fluxes_callback(clicked_button,widgets):\n",
    "    f = plt.figure(figsize=(12,6),dpi=150)\n",
    "    axN = f.add_subplot(121,projection='polar')\n",
    "    axS = f.add_subplot(122,projection='polar')\n",
    "    atype = widgets['atype_select'].value\n",
    "    jtype = widgets['jtype_select'].value\n",
    "    bincorrect = widgets['bincorrect_toggle'].value\n",
    "    combine_hemispheres = widgets['combineNS_toggle'].value\n",
    "    manual_newell = widgets['newell_float'].value\n",
    "    year = widgets['year'].value\n",
    "    month = widgets['month'].value\n",
    "    day = widgets['day'].value\n",
    "    hour = widgets['hour'].value\n",
    "    minute = widgets['minute'].value\n",
    "    dt = datetime.datetime(year,month,day,hour,minute)\n",
    "    dtstr = dt.strftime('%Y%m%d %H:%M')\n",
    "    if jtype=='average energy':\n",
    "        estimator = AverageEnergyEstimator(atype)\n",
    "        get_precip_for_time = estimator.get_eavg_for_time\n",
    "    else:\n",
    "        estimator = FluxEstimator(atype,jtype)\n",
    "        get_precip_for_time = estimator.get_flux_for_time\n",
    "        \n",
    "    if manual_newell != -1.:\n",
    "        estimator._dF = manual_newell\n",
    "    tflux_kwargs = {'combine_hemispheres':combine_hemispheres,\n",
    "                    'return_dF':True}\n",
    "    fluxtupleN = get_precip_for_time(dt,hemi='N',**tflux_kwargs)\n",
    "    mlatgridN,mltgridN,fluxgridN,newell_coupling = fluxtupleN\n",
    "    fluxtupleS = get_precip_for_time(dt,hemi='S',**tflux_kwargs)\n",
    "    mlatgridS,mltgridS,fluxgridS,newell_coupling = fluxtupleS\n",
    "    if bincorrect:\n",
    "        bcN = BinCorrector(mlatgridN,mltgridN)\n",
    "        fluxgridN = bcN.fix(fluxgridN)\n",
    "        bcS = BinCorrector(mlatgridS,mltgridS)\n",
    "        fluxgridS = bcS.fix(fluxgridS)\n",
    "        print(\"Correction Applied\")\n",
    "    pcolor_kwargs = {'cmap':'gnuplot'}\n",
    "    manual_vmin = wgts['vmin_float'].value\n",
    "    if manual_vmin != -1.:\n",
    "        pcolor_kwargs['vmin']=manual_vmin\n",
    "    manual_vmax = wgts['vmax_float'].value\n",
    "    if manual_vmax != -1.:\n",
    "        pcolor_kwargs['vmax']=manual_vmax\n",
    "    mappableN = pcolor_flux(axN,mlatgridN,mltgridN,fluxgridN,'N',**pcolor_kwargs)\n",
    "    mappableS = pcolor_flux(axS,mlatgridS,mltgridS,fluxgridS,'S',**pcolor_kwargs)\n",
    "    f.colorbar(mappableN,ax=axN,label=jtype)\n",
    "    f.colorbar(mappableS,ax=axS,label=jtype)\n",
    "    axN.set_title('Northern Hemisphere')\n",
    "    axS.set_title('Southern Hemisphere')\n",
    "    polar2dial(axN)\n",
    "    polar2dial(axS)\n",
    "    f.suptitle(('%s, %s' % (atype,jtype)\n",
    "                +'\\nNewell Coupling (%s): %f' % (dtstr,newell_coupling)))\n",
    "    plt.show()\n",
    "    \n",
    "\n",
    "wgts = OrderedDict()\n",
    "wgts['year']=ipywidgets.IntText(description='Year',value=2010)\n",
    "wgts['month']=ipywidgets.IntText(description='Month',value=5)\n",
    "wgts['day']=ipywidgets.IntText(description='Day',value=29)\n",
    "wgts['hour']=ipywidgets.IntText(description='Hour',value=12)\n",
    "wgts['minute']=ipywidgets.IntText(description='Minute',value=0)\n",
    "wgts['atype_select']=ipywidgets.Dropdown(options=auroral_types,description='Type of Aurora')\n",
    "wgts['jtype_select']=ipywidgets.Dropdown(options=flux_types,description='Type of Flux')\n",
    "wgts['bincorrect_toggle']=ipywidgets.ToggleButton(description='Correction',value=False)\n",
    "wgts['combineNS_toggle']=ipywidgets.ToggleButton(description='Combine N&S',value=True)\n",
    "wgts['newell_float']=ipywidgets.FloatText(description='Newell Coupling (-1 to use date)',value=-1)\n",
    "wgts['vmin_float']=ipywidgets.FloatText(description='Colorbar Min (-1 is Autoscale)',value=-1)\n",
    "wgts['vmax_float']=ipywidgets.FloatText(description='Colorbar Max (-1 is Autoscale)',value=-1)\n",
    "wgts['run_button'] = ipywidgets.Button(description='Calculate')\n",
    "wgts['run_button'].on_click(partial(plot_date_fluxes_callback,widgets=wgts))\n",
    "\n",
    "for widget_name,widget in wgts.items():\n",
    "    display(widget)"
   ]
  },
  {
   "cell_type": "code",
   "execution_count": null,
   "metadata": {},
   "outputs": [],
   "source": []
  }
 ],
 "metadata": {
  "anaconda-cloud": {},
  "kernelspec": {
   "display_name": "Python 3",
   "language": "python",
   "name": "python3"
  },
  "language_info": {
   "codemirror_mode": {
    "name": "ipython",
    "version": 3
   },
   "file_extension": ".py",
   "mimetype": "text/x-python",
   "name": "python",
   "nbconvert_exporter": "python",
   "pygments_lexer": "ipython3",
   "version": "3.7.4"
  },
  "widgets": {
   "state": {
    "03365937b5854973893a0abfcc5d4ca2": {
     "views": [
      {
       "cell_index": 0
      }
     ]
    },
    "0ea37fe68c7b4a57b06dccdb9c8c5667": {
     "views": [
      {
       "cell_index": 0
      }
     ]
    },
    "3dd2b120e7ea48bfb574846304c264d2": {
     "views": [
      {
       "cell_index": 0
      }
     ]
    },
    "44bb4716e44e4599b5d0004bfe69a798": {
     "views": [
      {
       "cell_index": 0
      }
     ]
    },
    "548a68f9015a4000b4bbacfe9fd1bb9d": {
     "views": [
      {
       "cell_index": 0
      }
     ]
    },
    "5c54b874c02f46cb81d05c177d883c19": {
     "views": [
      {
       "cell_index": 0
      }
     ]
    },
    "65bd41b897274107b05de36e335e2d8c": {
     "views": [
      {
       "cell_index": 0
      }
     ]
    },
    "6a6454eba1e2426ba3f77f1631655bf2": {
     "views": [
      {
       "cell_index": 0
      }
     ]
    },
    "6b3e792849d04f21adc7e791b966b149": {
     "views": [
      {
       "cell_index": 0
      }
     ]
    },
    "70cc7ab915094151b28b2a5d1c95dc2e": {
     "views": [
      {
       "cell_index": 0
      }
     ]
    },
    "7b1789ee92c04df2bd681633250508ff": {
     "views": [
      {
       "cell_index": 0
      }
     ]
    },
    "80a71a6f463947c0877fc86f361d8701": {
     "views": [
      {
       "cell_index": 0
      }
     ]
    },
    "99d87c0e4b2d4fd0a2ee94727068ee50": {
     "views": [
      {
       "cell_index": 0
      }
     ]
    },
    "b48dc3756fcb4746b00455790d1e26af": {
     "views": [
      {
       "cell_index": 0
      }
     ]
    },
    "c26336bafea640e79072a91ea3e22c2a": {
     "views": [
      {
       "cell_index": 0
      }
     ]
    },
    "d62399d17a314e729f9bdf530749fcbd": {
     "views": [
      {
       "cell_index": 0
      }
     ]
    },
    "e18a63aa7ca347609c975ee2b9a23262": {
     "views": [
      {
       "cell_index": 0
      }
     ]
    },
    "eb515975ae4b47a5af09d78e0a13c0f5": {
     "views": [
      {
       "cell_index": 0
      }
     ]
    },
    "ee19a58f26fb4b0ea22876a0e1b010fe": {
     "views": [
      {
       "cell_index": 0
      }
     ]
    }
   },
   "version": "1.2.0"
  }
 },
 "nbformat": 4,
 "nbformat_minor": 1
}
