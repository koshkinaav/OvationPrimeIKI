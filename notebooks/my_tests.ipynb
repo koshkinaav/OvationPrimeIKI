{
 "cells": [
  {
   "cell_type": "code",
   "execution_count": 1,
   "id": "initial_id",
   "metadata": {
    "collapsed": true,
    "ExecuteTime": {
     "end_time": "2023-10-22T12:50:42.157990Z",
     "start_time": "2023-10-22T12:50:42.155225Z"
    }
   },
   "outputs": [],
   "source": [
    "season, atype, energy_or_number = 'winter', 'diff', 'energy'"
   ]
  },
  {
   "cell_type": "code",
   "execution_count": 2,
   "outputs": [
    {
     "name": "stderr",
     "output_type": "stream",
     "text": [
      "/Users/a.konkin/PycharmProjects/OvationPyme/ovationpyme/ovation_prime.py:768: SyntaxWarning: \"is not\" with a literal. Did you mean \"!=\"?\n",
      "  if self.atype is not 'ions':\n"
     ]
    },
    {
     "name": "stdout",
     "output_type": "stream",
     "text": [
      "Solar wind data files will be saved to /Users/a.konkin/Library/Application Support/nasaomnireader\n"
     ]
    },
    {
     "name": "stderr",
     "output_type": "stream",
     "text": [
      "/Users/a.konkin/PycharmProjects/OvationPyme/venv/lib/python3.9/site-packages/urllib3/__init__.py:34: NotOpenSSLWarning: urllib3 v2.0 only supports OpenSSL 1.1.1+, currently the 'ssl' module is compiled with 'LibreSSL 2.8.3'. See: https://github.com/urllib3/urllib3/issues/3020\n",
      "  warnings.warn(\n"
     ]
    },
    {
     "name": "stdout",
     "output_type": "stream",
     "text": [
      "\n",
      "------------IMPORTANT----------------------------\n",
      "Unable to import spacepy. Will fall back to\n",
      "using Omni text files, which may have slightly\n",
      "different data and incomplete metadata\n",
      "-------------------------------------------------\n"
     ]
    }
   ],
   "source": [
    "import ovationpyme"
   ],
   "metadata": {
    "collapsed": false,
    "ExecuteTime": {
     "end_time": "2023-10-22T12:50:57.549119Z",
     "start_time": "2023-10-22T12:50:56.362377Z"
    }
   },
   "id": "a4fdad1aeefa37e"
  },
  {
   "cell_type": "code",
   "execution_count": 4,
   "outputs": [],
   "source": [
    "obj = ovationpyme.ovation_prime.SeasonalFluxEstimator(season, atype, energy_or_number)"
   ],
   "metadata": {
    "collapsed": false,
    "ExecuteTime": {
     "end_time": "2023-10-22T12:51:23.093592Z",
     "start_time": "2023-10-22T12:51:22.859413Z"
    }
   },
   "id": "2333e975435dde62"
  },
  {
   "cell_type": "code",
   "execution_count": 7,
   "outputs": [
    {
     "ename": "AttributeError",
     "evalue": "'SeasonalFluxEstimator' object has no attribute 'FluxEstimator'",
     "output_type": "error",
     "traceback": [
      "\u001B[0;31m---------------------------------------------------------------------------\u001B[0m",
      "\u001B[0;31mAttributeError\u001B[0m                            Traceback (most recent call last)",
      "Cell \u001B[0;32mIn[7], line 1\u001B[0m\n\u001B[0;32m----> 1\u001B[0m \u001B[43mobj\u001B[49m\u001B[38;5;241;43m.\u001B[39;49m\u001B[43mFluxEstimator\u001B[49m(atype, energy_or_number)\n",
      "\u001B[0;31mAttributeError\u001B[0m: 'SeasonalFluxEstimator' object has no attribute 'FluxEstimator'"
     ]
    }
   ],
   "source": [
    "obj.FluxEstimator(atype, energy_or_number)"
   ],
   "metadata": {
    "collapsed": false,
    "ExecuteTime": {
     "end_time": "2023-10-22T12:57:18.547971Z",
     "start_time": "2023-10-22T12:57:18.537069Z"
    }
   },
   "id": "ea63fe193507a730"
  },
  {
   "cell_type": "code",
   "execution_count": 8,
   "outputs": [],
   "source": [
    "atype, energy_or_number = 'diff', 'energy'\n",
    "obj2 = ovationpyme.ovation_prime.FluxEstimator(atype, energy_or_number)"
   ],
   "metadata": {
    "collapsed": false,
    "ExecuteTime": {
     "end_time": "2023-10-22T12:57:37.949868Z",
     "start_time": "2023-10-22T12:57:37.018264Z"
    }
   },
   "id": "499441a57997a9ba"
  },
  {
   "cell_type": "code",
   "execution_count": 13,
   "outputs": [
    {
     "data": {
      "text/plain": "array([[[0.999877, 0.      , 0.999969, ..., 0.999993, 0.999992,\n         0.999993],\n        [0.999927, 0.      , 0.999983, ..., 0.999993, 0.999991,\n         0.999991],\n        [0.999914, 0.      , 0.999986, ..., 0.999993, 0.999993,\n         0.999991],\n        ...,\n        [0.999983, 0.      , 0.999992, ..., 0.999993, 0.999994,\n         0.999992],\n        [0.99998 , 0.      , 0.999993, ..., 0.999992, 0.999994,\n         0.999992],\n        [0.999974, 0.      , 0.999993, ..., 0.999993, 0.999995,\n         0.999992]],\n\n       [[0.999978, 0.      , 0.999993, ..., 0.999207, 0.999994,\n         0.99999 ],\n        [0.999977, 0.      , 0.999992, ..., 0.999992, 0.999993,\n         0.999986],\n        [0.999975, 0.      , 0.999991, ..., 0.99999 , 0.999991,\n         0.999987],\n        ...,\n        [0.993563, 0.999899, 0.999984, ..., 0.999991, 0.999994,\n         0.985412],\n        [0.980781, 0.99993 , 0.995033, ..., 0.99999 , 0.999247,\n         0.990685],\n        [0.986997, 0.999879, 0.979708, ..., 0.99999 , 0.998355,\n         0.982633]],\n\n       [[0.988618, 0.9999  , 0.999972, ..., 0.999987, 0.993733,\n         0.974788],\n        [0.991029, 0.974878, 0.999971, ..., 0.998581, 0.997703,\n         0.974454],\n        [0.981114, 0.99992 , 0.977817, ..., 0.999981, 0.97809 ,\n         0.944926],\n        ...,\n        [0.901746, 0.910115, 0.914909, ..., 0.774742, 0.833629,\n         0.882247],\n        [0.921478, 0.91482 , 0.905865, ..., 0.772214, 0.714887,\n         0.913901],\n        [0.881782, 0.930504, 0.906619, ..., 0.761092, 0.777436,\n         0.874386]],\n\n       ...,\n\n       [[0.      , 0.923393, 0.991346, ..., 0.959675, 0.826542,\n         0.867081],\n        [0.      , 0.893779, 0.994732, ..., 0.924107, 0.599968,\n         0.75729 ],\n        [0.      , 0.981307, 0.997097, ..., 0.940802, 0.748623,\n         0.846378],\n        ...,\n        [0.984336, 0.927554, 0.840604, ..., 0.932626, 0.947333,\n         0.962927],\n        [0.943367, 0.873981, 0.810176, ..., 0.927816, 0.971188,\n         0.970167],\n        [0.970001, 0.896861, 0.825745, ..., 0.875758, 0.934457,\n         0.973885]],\n\n       [[0.993688, 0.948931, 0.85996 , ..., 0.869543, 0.99029 ,\n         0.977817],\n        [0.94954 , 0.919401, 0.851529, ..., 0.929441, 0.987912,\n         0.999951],\n        [0.999945, 0.949921, 0.871196, ..., 0.949496, 0.999954,\n         0.963335],\n        ...,\n        [0.999678, 0.975126, 0.973786, ..., 0.999963, 0.974878,\n         0.999863],\n        [0.990819, 0.987978, 0.990887, ..., 0.99996 , 0.989256,\n         0.999762],\n        [0.9996  , 0.999895, 0.999969, ..., 0.999936, 0.999921,\n         0.999818]],\n\n       [[0.999778, 0.9998  , 0.979443, ..., 0.999951, 0.999889,\n         0.999867],\n        [0.999706, 0.999744, 0.99997 , ..., 0.999927, 0.999783,\n         0.999841],\n        [0.999565, 0.999756, 0.99224 , ..., 0.994821, 0.999773,\n         0.999474],\n        ...,\n        [0.997506, 0.998004, 0.990099, ..., 0.999667, 0.998752,\n         0.997506],\n        [0.      , 0.      , 0.998336, ..., 0.999231, 0.99889 ,\n         0.995025],\n        [0.999583, 0.99963 , 0.999583, ..., 0.99989 , 0.999714,\n         0.999474]]])"
     },
     "execution_count": 13,
     "metadata": {},
     "output_type": "execute_result"
    }
   ],
   "source": [
    "obj2.seasonal_flux_estimators['spring'].prob"
   ],
   "metadata": {
    "collapsed": false,
    "ExecuteTime": {
     "end_time": "2023-10-22T12:58:32.524521Z",
     "start_time": "2023-10-22T12:58:32.520833Z"
    }
   },
   "id": "48cb86bcb0be169"
  },
  {
   "cell_type": "code",
   "execution_count": null,
   "outputs": [],
   "source": [],
   "metadata": {
    "collapsed": false
   },
   "id": "21bea467b4017388"
  }
 ],
 "metadata": {
  "kernelspec": {
   "display_name": "Python 3",
   "language": "python",
   "name": "python3"
  },
  "language_info": {
   "codemirror_mode": {
    "name": "ipython",
    "version": 2
   },
   "file_extension": ".py",
   "mimetype": "text/x-python",
   "name": "python",
   "nbconvert_exporter": "python",
   "pygments_lexer": "ipython2",
   "version": "2.7.6"
  }
 },
 "nbformat": 4,
 "nbformat_minor": 5
}
