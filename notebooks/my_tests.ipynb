{
 "cells": [
  {
   "cell_type": "code",
   "execution_count": 14,
   "outputs": [],
   "source": [
    "import ovationpyme"
   ],
   "metadata": {
    "collapsed": false,
    "ExecuteTime": {
     "end_time": "2023-10-22T13:06:52.046444Z",
     "start_time": "2023-10-22T13:06:52.044306Z"
    }
   },
   "id": "36b6f80a3a7d594"
  },
  {
   "cell_type": "code",
   "execution_count": 37,
   "outputs": [],
   "source": [
    "def idl_call_results(request=None):\n",
    "    results = {\n",
    "        'atype': 'diff',\n",
    "        'season': 'winter',\n",
    "        'i_mlt': 30,\n",
    "        'j_mlat': 140,\n",
    "        'j_mlat_NS': 60,\n",
    "        'je': 0.0549602,\n",
    "        'b1p': 0.826437,\n",
    "        'b2p': 2.26261e-05,\n",
    "        'b1a': 0.0634671,\n",
    "        'b2a': -2.70994e-06,\n",
    "        'dF': 3134.17,\n",
    "        'prob': 0.897351\n",
    "        }\n",
    "    return results"
   ],
   "metadata": {
    "collapsed": false,
    "ExecuteTime": {
     "end_time": "2023-10-22T13:44:37.539432Z",
     "start_time": "2023-10-22T13:44:37.535955Z"
    }
   },
   "id": "ab380d8ff9fe16a"
  },
  {
   "cell_type": "code",
   "execution_count": 38,
   "outputs": [],
   "source": [
    "j_mlat, i_mlt = idl_call_results()['j_mlat'], idl_call_results()['i_mlt']"
   ],
   "metadata": {
    "collapsed": false,
    "ExecuteTime": {
     "end_time": "2023-10-22T13:44:39.758771Z",
     "start_time": "2023-10-22T13:44:39.755260Z"
    }
   },
   "id": "9aee308638f91e37"
  },
  {
   "cell_type": "code",
   "execution_count": 39,
   "outputs": [
    {
     "data": {
      "text/plain": "140"
     },
     "execution_count": 39,
     "metadata": {},
     "output_type": "execute_result"
    }
   ],
   "source": [
    "j_mlat"
   ],
   "metadata": {
    "collapsed": false,
    "ExecuteTime": {
     "end_time": "2023-10-22T13:44:40.324047Z",
     "start_time": "2023-10-22T13:44:40.321521Z"
    }
   },
   "id": "bebd1abc0c65c1a8"
  },
  {
   "cell_type": "code",
   "execution_count": 40,
   "outputs": [
    {
     "data": {
      "text/plain": "30"
     },
     "execution_count": 40,
     "metadata": {},
     "output_type": "execute_result"
    }
   ],
   "source": [
    "i_mlt"
   ],
   "metadata": {
    "collapsed": false,
    "ExecuteTime": {
     "end_time": "2023-10-22T13:44:40.498764Z",
     "start_time": "2023-10-22T13:44:40.495781Z"
    }
   },
   "id": "3883718a433e20c0"
  },
  {
   "cell_type": "code",
   "execution_count": 41,
   "outputs": [],
   "source": [
    "idl_dF = idl_call_results()['dF']\n",
    "idl_prob = idl_call_results()['prob']"
   ],
   "metadata": {
    "collapsed": false,
    "ExecuteTime": {
     "end_time": "2023-10-22T13:44:42.403644Z",
     "start_time": "2023-10-22T13:44:42.400143Z"
    }
   },
   "id": "247ab614d520d262"
  },
  {
   "cell_type": "code",
   "execution_count": 42,
   "outputs": [],
   "source": [
    "def seasonal_flux_estimator(request=None):\n",
    "    season, atype, energy_or_number = 'winter', 'diff', 'energy'\n",
    "    return ovationpyme.ovation_prime.SeasonalFluxEstimator(season, atype, energy_or_number)"
   ],
   "metadata": {
    "collapsed": false,
    "ExecuteTime": {
     "end_time": "2023-10-22T13:44:43.308121Z",
     "start_time": "2023-10-22T13:44:43.305592Z"
    }
   },
   "id": "b60e21ca7fa1a225"
  },
  {
   "cell_type": "code",
   "execution_count": 43,
   "outputs": [],
   "source": [
    "obj = seasonal_flux_estimator()"
   ],
   "metadata": {
    "collapsed": false,
    "ExecuteTime": {
     "end_time": "2023-10-22T13:44:43.692424Z",
     "start_time": "2023-10-22T13:44:43.469397Z"
    }
   },
   "id": "b3f4766d7c12fd26"
  },
  {
   "cell_type": "code",
   "execution_count": 44,
   "outputs": [],
   "source": [
    "py_prob = obj.prob_estimate(idl_dF, i_mlt, j_mlat)"
   ],
   "metadata": {
    "collapsed": false,
    "ExecuteTime": {
     "end_time": "2023-10-22T13:44:43.696663Z",
     "start_time": "2023-10-22T13:44:43.693484Z"
    }
   },
   "id": "3dbcada469e3e328"
  },
  {
   "cell_type": "code",
   "execution_count": 45,
   "outputs": [
    {
     "data": {
      "text/plain": "0.858068039802"
     },
     "execution_count": 45,
     "metadata": {},
     "output_type": "execute_result"
    }
   ],
   "source": [
    "py_prob"
   ],
   "metadata": {
    "collapsed": false,
    "ExecuteTime": {
     "end_time": "2023-10-22T13:44:43.882989Z",
     "start_time": "2023-10-22T13:44:43.880370Z"
    }
   },
   "id": "3352d97c3638379e"
  },
  {
   "cell_type": "code",
   "execution_count": 29,
   "outputs": [],
   "source": [
    "py_flux = obj.estimate_auroral_flux(idl_dF, i_mlt, j_mlat)"
   ],
   "metadata": {
    "collapsed": false,
    "ExecuteTime": {
     "end_time": "2023-10-22T13:12:54.323393Z",
     "start_time": "2023-10-22T13:12:54.319062Z"
    }
   },
   "id": "d83d6ca140c52189"
  },
  {
   "cell_type": "code",
   "execution_count": 30,
   "outputs": [
    {
     "data": {
      "text/plain": "0.049330695727270855"
     },
     "execution_count": 30,
     "metadata": {},
     "output_type": "execute_result"
    }
   ],
   "source": [
    "py_flux"
   ],
   "metadata": {
    "collapsed": false,
    "ExecuteTime": {
     "end_time": "2023-10-22T13:12:59.936778Z",
     "start_time": "2023-10-22T13:12:59.931988Z"
    }
   },
   "id": "1a72a445b5caa5c9"
  },
  {
   "cell_type": "code",
   "execution_count": null,
   "outputs": [],
   "source": [],
   "metadata": {
    "collapsed": false
   },
   "id": "dde721482917ce2a"
  }
 ],
 "metadata": {
  "kernelspec": {
   "display_name": "Python 3",
   "language": "python",
   "name": "python3"
  },
  "language_info": {
   "codemirror_mode": {
    "name": "ipython",
    "version": 2
   },
   "file_extension": ".py",
   "mimetype": "text/x-python",
   "name": "python",
   "nbconvert_exporter": "python",
   "pygments_lexer": "ipython2",
   "version": "2.7.6"
  }
 },
 "nbformat": 4,
 "nbformat_minor": 5
}
