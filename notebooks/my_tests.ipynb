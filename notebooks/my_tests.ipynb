{
 "cells": [
  {
   "cell_type": "code",
   "execution_count": 23,
   "outputs": [],
   "source": [
    "import ovationpyme\n",
    "import matplotlib.pyplot as plt\n",
    "from ovationpyme.ovation_plotting import pcolor_flux, latlt2polar"
   ],
   "metadata": {
    "collapsed": false,
    "ExecuteTime": {
     "end_time": "2023-11-29T22:12:09.153402Z",
     "start_time": "2023-11-29T22:12:09.147784Z"
    }
   },
   "id": "36b6f80a3a7d594"
  },
  {
   "cell_type": "code",
   "execution_count": 37,
   "outputs": [],
   "source": [
    "def idl_call_results(request=None):\n",
    "    results = {\n",
    "        'atype': 'diff',\n",
    "        'season': 'winter',\n",
    "        'i_mlt': 30,\n",
    "        'j_mlat': 140,\n",
    "        'j_mlat_NS': 60,\n",
    "        'je': 0.0549602,\n",
    "        'b1p': 0.826437,\n",
    "        'b2p': 2.26261e-05,\n",
    "        'b1a': 0.0634671,\n",
    "        'b2a': -2.70994e-06,\n",
    "        'dF': 3134.17,\n",
    "        'prob': 0.897351\n",
    "        }\n",
    "    return results"
   ],
   "metadata": {
    "collapsed": false,
    "ExecuteTime": {
     "end_time": "2023-10-22T13:44:37.539432Z",
     "start_time": "2023-10-22T13:44:37.535955Z"
    }
   },
   "id": "ab380d8ff9fe16a"
  },
  {
   "cell_type": "code",
   "execution_count": 38,
   "outputs": [],
   "source": [
    "j_mlat, i_mlt = idl_call_results()['j_mlat'], idl_call_results()['i_mlt']"
   ],
   "metadata": {
    "collapsed": false,
    "ExecuteTime": {
     "end_time": "2023-10-22T13:44:39.758771Z",
     "start_time": "2023-10-22T13:44:39.755260Z"
    }
   },
   "id": "9aee308638f91e37"
  },
  {
   "cell_type": "code",
   "execution_count": 39,
   "outputs": [
    {
     "data": {
      "text/plain": "140"
     },
     "execution_count": 39,
     "metadata": {},
     "output_type": "execute_result"
    }
   ],
   "source": [
    "j_mlat"
   ],
   "metadata": {
    "collapsed": false,
    "ExecuteTime": {
     "end_time": "2023-10-22T13:44:40.324047Z",
     "start_time": "2023-10-22T13:44:40.321521Z"
    }
   },
   "id": "bebd1abc0c65c1a8"
  },
  {
   "cell_type": "code",
   "execution_count": 40,
   "outputs": [
    {
     "data": {
      "text/plain": "30"
     },
     "execution_count": 40,
     "metadata": {},
     "output_type": "execute_result"
    }
   ],
   "source": [
    "i_mlt"
   ],
   "metadata": {
    "collapsed": false,
    "ExecuteTime": {
     "end_time": "2023-10-22T13:44:40.498764Z",
     "start_time": "2023-10-22T13:44:40.495781Z"
    }
   },
   "id": "3883718a433e20c0"
  },
  {
   "cell_type": "code",
   "execution_count": 41,
   "outputs": [],
   "source": [
    "idl_dF = idl_call_results()['dF']\n",
    "idl_prob = idl_call_results()['prob']"
   ],
   "metadata": {
    "collapsed": false,
    "ExecuteTime": {
     "end_time": "2023-10-22T13:44:42.403644Z",
     "start_time": "2023-10-22T13:44:42.400143Z"
    }
   },
   "id": "247ab614d520d262"
  },
  {
   "cell_type": "code",
   "execution_count": 42,
   "outputs": [],
   "source": [
    "def seasonal_flux_estimator(request=None):\n",
    "    season, atype, energy_or_number = 'winter', 'diff', 'energy'\n",
    "    return ovationpyme.ovation_prime.SeasonalFluxEstimator(season, atype, energy_or_number)"
   ],
   "metadata": {
    "collapsed": false,
    "ExecuteTime": {
     "end_time": "2023-10-22T13:44:43.308121Z",
     "start_time": "2023-10-22T13:44:43.305592Z"
    }
   },
   "id": "b60e21ca7fa1a225"
  },
  {
   "cell_type": "code",
   "execution_count": 43,
   "outputs": [],
   "source": [
    "obj = seasonal_flux_estimator()"
   ],
   "metadata": {
    "collapsed": false,
    "ExecuteTime": {
     "end_time": "2023-10-22T13:44:43.692424Z",
     "start_time": "2023-10-22T13:44:43.469397Z"
    }
   },
   "id": "b3f4766d7c12fd26"
  },
  {
   "cell_type": "code",
   "execution_count": 44,
   "outputs": [],
   "source": [
    "py_prob = obj.prob_estimate(idl_dF, i_mlt, j_mlat)"
   ],
   "metadata": {
    "collapsed": false,
    "ExecuteTime": {
     "end_time": "2023-10-22T13:44:43.696663Z",
     "start_time": "2023-10-22T13:44:43.693484Z"
    }
   },
   "id": "3dbcada469e3e328"
  },
  {
   "cell_type": "code",
   "execution_count": 45,
   "outputs": [
    {
     "data": {
      "text/plain": "0.858068039802"
     },
     "execution_count": 45,
     "metadata": {},
     "output_type": "execute_result"
    }
   ],
   "source": [
    "py_prob"
   ],
   "metadata": {
    "collapsed": false,
    "ExecuteTime": {
     "end_time": "2023-10-22T13:44:43.882989Z",
     "start_time": "2023-10-22T13:44:43.880370Z"
    }
   },
   "id": "3352d97c3638379e"
  },
  {
   "cell_type": "code",
   "execution_count": 29,
   "outputs": [],
   "source": [
    "py_flux = obj.estimate_auroral_flux(idl_dF, i_mlt, j_mlat)"
   ],
   "metadata": {
    "collapsed": false,
    "ExecuteTime": {
     "end_time": "2023-10-22T13:12:54.323393Z",
     "start_time": "2023-10-22T13:12:54.319062Z"
    }
   },
   "id": "d83d6ca140c52189"
  },
  {
   "cell_type": "code",
   "execution_count": 30,
   "outputs": [
    {
     "data": {
      "text/plain": "0.049330695727270855"
     },
     "execution_count": 30,
     "metadata": {},
     "output_type": "execute_result"
    }
   ],
   "source": [
    "py_flux"
   ],
   "metadata": {
    "collapsed": false,
    "ExecuteTime": {
     "end_time": "2023-10-22T13:12:59.936778Z",
     "start_time": "2023-10-22T13:12:59.931988Z"
    }
   },
   "id": "1a72a445b5caa5c9"
  },
  {
   "cell_type": "code",
   "execution_count": 21,
   "outputs": [],
   "source": [
    "import datetime\n",
    "\n",
    "import numpy as np\n",
    "import matplotlib.pyplot as pp\n",
    "\n",
    "from ovationpyme import ovation_prime\n",
    "from ovationpyme import ovation_utilities\n",
    "from geospacepy import satplottools, special_datetime\n",
    "\n",
    "def draw_weighted_flux(dt, atype='diff', jtype='energy'):\n",
    "    \"\"\"\n",
    "    Test automatic generation of omni_intervals in ovation_utilities\n",
    "    also by not specifying a start and end time for the FluxEstimator\n",
    "    \"\"\"\n",
    "    estimator = ovation_prime.FluxEstimator(atype, jtype)\n",
    "    global mlatgridN, mltgridN, fluxgridN\n",
    "\n",
    "    mlatgridN, mltgridN, fluxgridN = estimator.get_flux_for_time(dt, hemi='N')\n",
    "    mlatgridS, mltgridS, fluxgridS = estimator.get_flux_for_time(dt, hemi='S')\n",
    "\n",
    "    fig, ax = plt.subplots()\n",
    "    pcolor_kwargs = {}\n",
    "    pcolor_flux(ax, mlatgridS, mltgridS, fluxgridS, 'S', **pcolor_kwargs)\n",
    "    aN = f.add_subplot(121)\n",
    "    aS = f.add_subplot(122)\n",
    "\n",
    "    XN, YN = satplottools.latlt2cart(mlatgridN.flatten(), mltgridN.flatten(), 'N')\n",
    "    XS, YS = satplottools.latlt2cart(mlatgridS.flatten(), mltgridS.flatten(), 'S')\n",
    "\n",
    "    XN = XN.reshape(mlatgridN.shape)\n",
    "    YN = YN.reshape(mltgridN.shape)\n",
    "    XS = XS.reshape(mlatgridS.shape)\n",
    "    YS = YS.reshape(mltgridS.shape)\n",
    "\n",
    "    satplottools.draw_dialplot(aN)\n",
    "    satplottools.draw_dialplot(aS)\n",
    "\n",
    "    mappableN = aN.pcolormesh(XN, YN, fluxgridN, vmin=0, vmax=2)\n",
    "    mappableS = aS.pcolormesh(XS, YS, fluxgridS, vmin=0, vmax=2)\n",
    "\n",
    "    # aN.set_title(\"Northern Hemisphere Flux\")\n",
    "    # aS.set_title(\"Southern Hemisphere Flux\")\n",
    "\n",
    "    f.colorbar(mappableN, ax=aN)\n",
    "    f.colorbar(mappableS, ax=aS)\n",
    "\n",
    "    f.suptitle(\"OvationPyme Auroral Model Flux Output at {0} \\n AuroralType:{1}, FluxType:{2}\".format(dt.strftime('%c'),\n",
    "                                                                                                      atype, jtype),\n",
    "               fontweight='bold')\n",
    "    return f"
   ],
   "metadata": {
    "collapsed": false,
    "ExecuteTime": {
     "end_time": "2023-11-29T22:11:51.757131Z",
     "start_time": "2023-11-29T22:11:51.754670Z"
    }
   },
   "id": "dde721482917ce2a"
  },
  {
   "cell_type": "code",
   "execution_count": 3,
   "outputs": [],
   "source": [
    "seasonN = 'summer'\n",
    "seasonS = 'winter'\n",
    "atype = 'ions'\n",
    "jtype = 'energy'\n",
    "tfmt = '%Y%m%d'\n",
    "day = 1\n",
    "\n",
    "# Times given in figure 2 of Cousins et. al. 2015\n",
    "dt1 = datetime.datetime(2023, 9, day, 12, 10, 0)\n",
    "dt2 = datetime.datetime(2023, 9, day, 7, 40, 0)\n",
    "dt3 = datetime.datetime(2023, 9, day, 0, 50, 0)"
   ],
   "metadata": {
    "collapsed": false,
    "ExecuteTime": {
     "end_time": "2023-11-29T21:14:56.815008Z",
     "start_time": "2023-11-29T21:14:56.810173Z"
    }
   },
   "id": "be14463927d917dc"
  },
  {
   "cell_type": "code",
   "execution_count": 32,
   "outputs": [],
   "source": [
    "dt = dt2"
   ],
   "metadata": {
    "collapsed": false,
    "ExecuteTime": {
     "end_time": "2023-11-29T22:14:09.247294Z",
     "start_time": "2023-11-29T22:14:09.239919Z"
    }
   },
   "id": "6c56491414b62301"
  },
  {
   "cell_type": "code",
   "execution_count": 33,
   "outputs": [
    {
     "ename": "NameError",
     "evalue": "name 'f' is not defined",
     "output_type": "error",
     "traceback": [
      "\u001B[0;31m---------------------------------------------------------------------------\u001B[0m",
      "\u001B[0;31mNameError\u001B[0m                                 Traceback (most recent call last)",
      "Cell \u001B[0;32mIn[33], line 1\u001B[0m\n\u001B[0;32m----> 1\u001B[0m \u001B[43mdraw_weighted_flux\u001B[49m\u001B[43m(\u001B[49m\u001B[43mdt\u001B[49m\u001B[43m,\u001B[49m\u001B[43m \u001B[49m\u001B[43matype\u001B[49m\u001B[38;5;241;43m=\u001B[39;49m\u001B[38;5;124;43m'\u001B[39;49m\u001B[38;5;124;43mdiff\u001B[39;49m\u001B[38;5;124;43m'\u001B[39;49m\u001B[43m,\u001B[49m\u001B[43m \u001B[49m\u001B[43mjtype\u001B[49m\u001B[38;5;241;43m=\u001B[39;49m\u001B[38;5;124;43m'\u001B[39;49m\u001B[38;5;124;43menergy\u001B[39;49m\u001B[38;5;124;43m'\u001B[39;49m\u001B[43m)\u001B[49m\n",
      "Cell \u001B[0;32mIn[21], line 24\u001B[0m, in \u001B[0;36mdraw_weighted_flux\u001B[0;34m(dt, atype, jtype)\u001B[0m\n\u001B[1;32m     22\u001B[0m pcolor_kwargs \u001B[38;5;241m=\u001B[39m {}\n\u001B[1;32m     23\u001B[0m pcolor_flux(ax, mlatgridS, mltgridS, fluxgridS, \u001B[38;5;124m'\u001B[39m\u001B[38;5;124mS\u001B[39m\u001B[38;5;124m'\u001B[39m, \u001B[38;5;241m*\u001B[39m\u001B[38;5;241m*\u001B[39mpcolor_kwargs)\n\u001B[0;32m---> 24\u001B[0m aN \u001B[38;5;241m=\u001B[39m \u001B[43mf\u001B[49m\u001B[38;5;241m.\u001B[39madd_subplot(\u001B[38;5;241m121\u001B[39m)\n\u001B[1;32m     25\u001B[0m aS \u001B[38;5;241m=\u001B[39m f\u001B[38;5;241m.\u001B[39madd_subplot(\u001B[38;5;241m122\u001B[39m)\n\u001B[1;32m     27\u001B[0m XN, YN \u001B[38;5;241m=\u001B[39m satplottools\u001B[38;5;241m.\u001B[39mlatlt2cart(mlatgridN\u001B[38;5;241m.\u001B[39mflatten(), mltgridN\u001B[38;5;241m.\u001B[39mflatten(), \u001B[38;5;124m'\u001B[39m\u001B[38;5;124mN\u001B[39m\u001B[38;5;124m'\u001B[39m)\n",
      "\u001B[0;31mNameError\u001B[0m: name 'f' is not defined"
     ]
    },
    {
     "data": {
      "text/plain": "<Figure size 640x480 with 1 Axes>",
      "image/png": "[encoded data removed]"
     },
     "metadata": {},
     "output_type": "display_data"
    }
   ],
   "source": [
    "draw_weighted_flux(dt, atype='diff', jtype='energy')"
   ],
   "metadata": {
    "collapsed": false,
    "ExecuteTime": {
     "end_time": "2023-11-29T22:14:10.424303Z",
     "start_time": "2023-11-29T22:14:09.382025Z"
    }
   },
   "id": "1aa729494f3e9474"
  },
  {
   "cell_type": "code",
   "execution_count": 11,
   "outputs": [
    {
     "data": {
      "text/plain": "array([[0.56749011, 0.65595644, 0.74495981, ..., 0.40070383, 0.48611013,\n        0.56893329],\n       [0.02983261, 0.0282435 , 0.02797234, ..., 0.04236324, 0.03784   ,\n        0.03088242],\n       [0.02519462, 0.02309735, 0.02253324, ..., 0.06082743, 0.03413993,\n        0.03014013],\n       ...,\n       [0.03961632, 0.04101112, 0.02720665, ..., 0.02366766, 0.02191044,\n        0.02953484],\n       [0.02372586, 0.01975155, 0.01968836, ..., 0.0261441 , 0.02337093,\n        0.01882758],\n       [0.02527614, 0.01539986, 0.01693261, ..., 0.01474044, 0.02339354,\n        0.01617278]])"
     },
     "execution_count": 11,
     "metadata": {},
     "output_type": "execute_result"
    }
   ],
   "source": [
    "import matplotlib.pyplot as plt\n",
    "plt.plot(mlatgridN, )"
   ],
   "metadata": {
    "collapsed": false,
    "ExecuteTime": {
     "end_time": "2023-11-29T21:18:55.171426Z",
     "start_time": "2023-11-29T21:18:55.156527Z"
    }
   },
   "id": "3f6354db98bfaf99"
  },
  {
   "cell_type": "code",
   "execution_count": 31,
   "outputs": [
    {
     "data": {
      "text/plain": "3.177642902235051"
     },
     "execution_count": 31,
     "metadata": {},
     "output_type": "execute_result"
    }
   ],
   "source": [
    "fluxgridN.max()"
   ],
   "metadata": {
    "collapsed": false,
    "ExecuteTime": {
     "end_time": "2023-11-29T22:13:26.732745Z",
     "start_time": "2023-11-29T22:13:26.730770Z"
    }
   },
   "id": "bff4fb165a0acafa"
  },
  {
   "cell_type": "code",
   "execution_count": null,
   "outputs": [],
   "source": [],
   "metadata": {
    "collapsed": false
   },
   "id": "4faa4ab34286515c"
  }
 ],
 "metadata": {
  "kernelspec": {
   "display_name": "Python 3",
   "language": "python",
   "name": "python3"
  },
  "language_info": {
   "codemirror_mode": {
    "name": "ipython",
    "version": 2
   },
   "file_extension": ".py",
   "mimetype": "text/x-python",
   "name": "python",
   "nbconvert_exporter": "python",
   "pygments_lexer": "ipython2",
   "version": "2.7.6"
  }
 },
 "nbformat": 4,
 "nbformat_minor": 5
}
