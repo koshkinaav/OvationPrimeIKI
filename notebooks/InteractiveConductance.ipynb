{
 "cells": [
  {
   "cell_type": "code",
   "execution_count": null,
   "metadata": {
    "ExecuteTime": {
     "end_time": "2023-10-22T09:58:44.540144Z",
     "start_time": "2023-10-22T09:58:44.113726Z"
    },
    "collapsed": false,
    "jupyter": {
     "outputs_hidden": false
    }
   },
   "outputs": [],
   "source": [
    "%pylab inline\n",
    "import numpy as np\n",
    "import datetime\n",
    "import matplotlib.pyplot as plt\n",
    "from ovationpyme.ovation_prime import ConductanceEstimator\n",
    "from ovationpyme.ovation_utilities import calc_avg_solarwind\n",
    "from ovationpyme.ovation_plotting import latlt2polar,polar2dial,pcolor_flux\n",
    "import ipywidgets\n",
    "from collections import OrderedDict\n",
    "from functools import partial\n",
    "\n",
    "auroral_types = ['diff','mono','wave']\n",
    "\n",
    "def plot_date_fluxes_callback(clicked_button,widgets):\n",
    "    f = plt.figure(figsize=(12,12),dpi=150)\n",
    "    axpN = f.add_subplot(221,projection='polar')\n",
    "    axpS = f.add_subplot(222,projection='polar')\n",
    "    axhN = f.add_subplot(223,projection='polar')\n",
    "    axhS = f.add_subplot(224,projection='polar')\n",
    "    atypes = widgets['atype_select'].value\n",
    "    bincorrect = widgets['bincorrect_toggle'].value\n",
    "    solar_conductance = widgets['solar_toggle'].value\n",
    "    nflux_threshold = widgets['nflux_thresh_float'].value\n",
    "    eavg_threshold = widgets['eavg_thresh_float'].value\n",
    "    manual_f107 = widgets['f107_float'].value\n",
    "    manual_newell = widgets['newell_float'].value\n",
    "    year = widgets['year'].value\n",
    "    month = widgets['month'].value\n",
    "    day = widgets['day'].value\n",
    "    hour = widgets['hour'].value\n",
    "    minute = widgets['minute'].value\n",
    "    dt = datetime.datetime(year,month,day,hour,minute)\n",
    "    start_dt=dt-datetime.timedelta(days=1)\n",
    "    end_dt=dt+datetime.timedelta(days=1)\n",
    "    dtstr = dt.strftime('%Y%m%d %H:%M')\n",
    "    estimator = ConductanceEstimator(fluxtypes=atypes)\n",
    "    if manual_newell != -1:\n",
    "        for nfest,eavest in zip(estimator.nflux_estimator,estimator.eavg_estimator):\n",
    "            nfest._dF = manual_newell\n",
    "            eavest._dF = manual_newell\n",
    "    if manual_f107 != -1:\n",
    "        estimator._f107 = manual_f107\n",
    "    get_cond_kwargs = {'solar':solar_conductance,\n",
    "                        'background_p':0.1,'background_h':0.1,\n",
    "                        'conductance_fluxtypes':atypes,\n",
    "                        'interp_bad_bins':bincorrect,\n",
    "                        'return_dF':True,'return_f107':True,\n",
    "                        'dnflux_bad_thresh':nflux_threshold,\n",
    "                        'deavg_bad_thresh':eavg_threshold}\n",
    "    condtupleN = estimator.get_conductance(dt,hemi='N',**get_cond_kwargs)\n",
    "    mlatgridN,mltgridN,pedgridN,hallgridN,newell_coupling,f107 = condtupleN\n",
    "    condtupleS = estimator.get_conductance(dt,hemi='S',**get_cond_kwargs)\n",
    "    mlatgridS,mltgridS,pedgridS,hallgridS,newell_coupling,f107 = condtupleS\n",
    "    pcolor_kwargs = {'cmap':'gnuplot','alpha':1.0}\n",
    "    manual_vmin = wgts['vmin_float'].value\n",
    "    if manual_vmin != -1.:\n",
    "        pcolor_kwargs['vmin']=manual_vmin\n",
    "    manual_vmax = wgts['vmax_float'].value\n",
    "    if manual_vmax != -1.:\n",
    "        pcolor_kwargs['vmax']=manual_vmax\n",
    "    mappablepN = pcolor_flux(axpN,mlatgridN,mltgridN,pedgridN,'N',**pcolor_kwargs)\n",
    "    mappablepS = pcolor_flux(axpS,mlatgridS,mltgridS,pedgridS,'S',**pcolor_kwargs)\n",
    "    mappablehN = pcolor_flux(axhN,mlatgridN,mltgridN,hallgridN,'N',**pcolor_kwargs)\n",
    "    mappablehS = pcolor_flux(axhS,mlatgridS,mltgridS,hallgridS,'S',**pcolor_kwargs)\n",
    "    f.colorbar(mappablepN,ax=axpN,label='Pedersen [Mho]')\n",
    "    f.colorbar(mappablepS,ax=axpS,label='Pedersen [Mho]')\n",
    "    f.colorbar(mappablehN,ax=axhN,label='Hall [Mho]')\n",
    "    f.colorbar(mappablehS,ax=axhS,label='Hall [Mho]')\n",
    "    axpN.set_title('Northern Hemisphere\\nPedersen Conductance')\n",
    "    axpS.set_title('Southern Hemisphere\\nPedersen Conductance')\n",
    "    axhN.set_title('Northern Hemisphere\\nHall Conductance')\n",
    "    axhS.set_title('Southern Hemisphere\\nHall Conductance')\n",
    "    polar2dial(axpN)\n",
    "    polar2dial(axpS)\n",
    "    polar2dial(axhN)\n",
    "    polar2dial(axhS)\n",
    "    \n",
    "    f.suptitle(('(%s):\\n' % (dtstr)\n",
    "               +'Newell_coupling: %.1f\\n' % (newell_coupling)\n",
    "               +'F10.7: %.1f\\n' % (f107)))\n",
    "    plt.show()\n",
    "    \n",
    "\n",
    "wgts = OrderedDict()\n",
    "wgts['year']=ipywidgets.IntText(description='Year',value=2010)\n",
    "wgts['month']=ipywidgets.IntText(description='Month',value=5)\n",
    "wgts['day']=ipywidgets.IntText(description='Day',value=29)\n",
    "wgts['hour']=ipywidgets.IntText(description='Hour',value=12)\n",
    "wgts['minute']=ipywidgets.IntText(description='Minute',value=0)\n",
    "wgts['atype_label']=ipywidgets.Label(value='Type(s) of Aurora Used To Calculate Conductance')\n",
    "wgts['atype_select']=ipywidgets.SelectMultiple(value=['diff'],options=auroral_types,description='[Ctrl+Click] Selects Multiple')\n",
    "wgts['bincorrect_toggle']=ipywidgets.ToggleButton(description='Correction',value=True)\n",
    "wgts['threshold_label']=ipywidgets.Label(value='Correction removes bins with change > threshold versus neighbors')\n",
    "wgts['nflux_thresh_float']=ipywidgets.FloatSlider(value=1e8,min=1e7,max=1e9,step=1e6,\n",
    "                                               description='Number Flux Threshold',\n",
    "                                               readout=True,readout_format='.1e')\n",
    "wgts['eavg_thresh_float']=ipywidgets.FloatSlider(value=.3,min=.03,max=3,step=0.1,\n",
    "                                               description='Average Energy Threshold:',\n",
    "                                               readout=True,readout_format='.1f')\n",
    "wgts['solar_toggle']=ipywidgets.ToggleButton(description='Solar Conductance',value=True)\n",
    "wgts['newell_float']=ipywidgets.FloatText(description='Newell Coupling (-1 to use date)',value=-1)\n",
    "wgts['f107_float']=ipywidgets.FloatText(description='F10.7 (-1 to use date)',value=-1)\n",
    "wgts['vmin_float']=ipywidgets.FloatText(description='Colorbar Min (-1 is Autoscale)',value=-1)\n",
    "wgts['vmax_float']=ipywidgets.FloatText(description='Colorbar Max (-1 is Autoscale)',value=-1)\n",
    "wgts['run_button'] = ipywidgets.Button(description='Calculate')\n",
    "wgts['run_button'].on_click(partial(plot_date_fluxes_callback,widgets=wgts))\n",
    "\n",
    "for widget_name,widget in wgts.items():\n",
    "    display(widget)"
   ]
  },
  {
   "cell_type": "code",
   "execution_count": 4,
   "metadata": {
    "collapsed": false,
    "jupyter": {
     "outputs_hidden": false
    }
   },
   "outputs": [
    {
     "ename": "AttributeError",
     "evalue": "module 'ipywidgets' has no attribute 'F'",
     "output_type": "error",
     "traceback": [
      "\u001b[0;31m---------------------------------------------------------------------------\u001b[0m",
      "\u001b[0;31mAttributeError\u001b[0m                            Traceback (most recent call last)",
      "Cell \u001b[0;32mIn[4], line 1\u001b[0m\n\u001b[0;32m----> 1\u001b[0m \u001b[43mipywidgets\u001b[49m\u001b[38;5;241;43m.\u001b[39;49m\u001b[43mF\u001b[49m\n",
      "\u001b[0;31mAttributeError\u001b[0m: module 'ipywidgets' has no attribute 'F'"
     ]
    }
   ],
   "source": [
    "ipywidgets.F"
   ]
  },
  {
   "cell_type": "code",
   "execution_count": null,
   "metadata": {},
   "outputs": [],
   "source": []
  }
 ],
 "metadata": {
  "anaconda-cloud": {},
  "kernelspec": {
   "display_name": "Python 3 (ipykernel)",
   "language": "python",
   "name": "python3"
  },
  "language_info": {
   "codemirror_mode": {
    "name": "ipython",
    "version": 3
   },
   "file_extension": ".py",
   "mimetype": "text/x-python",
   "name": "python",
   "nbconvert_exporter": "python",
   "pygments_lexer": "ipython3",
   "version": "3.9.6"
  },
  "widgets": {
   "state": {
    "04bcc951848541c0bfa9519c0aa570a7": {
     "views": [
      {
       "cell_index": 0
      }
     ]
    },
    "056e34538d43446bbaa3fbfea804ce1c": {
     "views": [
      {
       "cell_index": 0
      }
     ]
    },
    "057f2746cd6f4d539bfa971acf4c95fd": {
     "views": [
      {
       "cell_index": 0
      }
     ]
    },
    "0b2cf04715434d409b8ce34930830743": {
     "views": [
      {
       "cell_index": 0
      }
     ]
    },
    "103692693f4d49bcb5f7aba6d04b2ebd": {
     "views": [
      {
       "cell_index": 0
      }
     ]
    },
    "1d28c63186124833ad7741e2a61f9f03": {
     "views": [
      {
       "cell_index": 0
      }
     ]
    },
    "2dd804c167764de0a4f1d72cff7ce7ae": {
     "views": [
      {
       "cell_index": 0
      }
     ]
    },
    "2deb48d626934213ae54e73ad1c63f80": {
     "views": [
      {
       "cell_index": 0
      }
     ]
    },
    "311181d36c7a4076a4729c9080a3d553": {
     "views": [
      {
       "cell_index": 0
      }
     ]
    },
    "331614b90a5f498898bb258d5c414370": {
     "views": [
      {
       "cell_index": 0
      }
     ]
    },
    "3389afe45a2a46ef9bec961b02532d99": {
     "views": [
      {
       "cell_index": 0
      }
     ]
    },
    "3b7bd560bc724733b0d32ecdbfc010f9": {
     "views": [
      {
       "cell_index": 0
      }
     ]
    },
    "41a1f1d375684213b9b817c41e83635a": {
     "views": [
      {
       "cell_index": 0
      }
     ]
    },
    "41ef566d8d614e5bbb27d827c181db74": {
     "views": [
      {
       "cell_index": 0
      }
     ]
    },
    "42d4039494fa402b8800f037e76b6149": {
     "views": [
      {
       "cell_index": 0
      }
     ]
    },
    "4595abfa8d1d4b21866a4e38054a6484": {
     "views": [
      {
       "cell_index": 0
      }
     ]
    },
    "47567539a7e243c3b36cc70cf7e9f469": {
     "views": [
      {
       "cell_index": 0
      }
     ]
    },
    "47ca95ad5ce946bfb25ef7ba4ac9b289": {
     "views": [
      {
       "cell_index": 0
      }
     ]
    },
    "4a1beb10235241ad8c99fbd9ff8c0c9f": {
     "views": [
      {
       "cell_index": 0
      }
     ]
    },
    "4cebfb74dbb74ed59c864999577d9e97": {
     "views": [
      {
       "cell_index": 0
      }
     ]
    },
    "4d96c10868b049cfb5ad0a54dee104aa": {
     "views": [
      {
       "cell_index": 0
      }
     ]
    },
    "52a7a5acee5e4ce389da7d728f1125e7": {
     "views": [
      {
       "cell_index": 0
      }
     ]
    },
    "5d375ef4e62448a2860c9283fc4b7f4e": {
     "views": [
      {
       "cell_index": 0
      }
     ]
    },
    "64c8ab29136e49aab0812b71f9d81d1a": {
     "views": [
      {
       "cell_index": 0
      }
     ]
    },
    "6a478f981cfb42f5b96c14d195beb39d": {
     "views": [
      {
       "cell_index": 0
      }
     ]
    },
    "6cf811cc72d04f60b32d403c8fd59b2a": {
     "views": [
      {
       "cell_index": 0
      }
     ]
    },
    "703c2fad720743afb51a584958a4d225": {
     "views": [
      {
       "cell_index": 0
      }
     ]
    },
    "7140027fa1874cb4a592d724d8b169ae": {
     "views": [
      {
       "cell_index": 0
      }
     ]
    },
    "76900bd47eb54a0ebdf0932c46c64bb6": {
     "views": [
      {
       "cell_index": 0
      }
     ]
    },
    "7b19ab02cdc24951b3fd3c6278467a83": {
     "views": [
      {
       "cell_index": 0
      }
     ]
    },
    "8136312fcb614ebd94aaae33025f0a4e": {
     "views": [
      {
       "cell_index": 0
      }
     ]
    },
    "820c2a582f5c4ca195b75c211064e490": {
     "views": [
      {
       "cell_index": 0
      }
     ]
    },
    "8b7d0426be4344b48452ab05d046e092": {
     "views": [
      {
       "cell_index": 0
      }
     ]
    },
    "8cbf71b6ceab425aa97b7078a175b364": {
     "views": [
      {
       "cell_index": 0
      }
     ]
    },
    "8d718c92cbc74fa59fc8d2d361947609": {
     "views": [
      {
       "cell_index": 0
      }
     ]
    },
    "95ba01bbe6e24fe2bc432425c99253f8": {
     "views": [
      {
       "cell_index": 0
      }
     ]
    },
    "979a3f261a9647658aa206272d65c5d3": {
     "views": [
      {
       "cell_index": 0
      }
     ]
    },
    "a30168a20f2b470b8b9ec4f71886dd4d": {
     "views": [
      {
       "cell_index": 0
      }
     ]
    },
    "abb2a5de925149b5a0aa05057c4f9fd7": {
     "views": [
      {
       "cell_index": 0
      }
     ]
    },
    "b1b560396a914c089154334edbf43de4": {
     "views": [
      {
       "cell_index": 0
      }
     ]
    },
    "bafed73006dd4a35bb35bcfa50a885f2": {
     "views": [
      {
       "cell_index": 0
      }
     ]
    },
    "bcadc8101c4147c8a4856bef6d3cb7be": {
     "views": [
      {
       "cell_index": 0
      }
     ]
    },
    "bd73f91a34e948f9b8bb44e9ad4e1219": {
     "views": [
      {
       "cell_index": 0
      }
     ]
    },
    "c630daa027f4442b851c6cbfe740903e": {
     "views": [
      {
       "cell_index": 0
      }
     ]
    },
    "c6355c2aaba64b7f970e5a6adfa247d0": {
     "views": [
      {
       "cell_index": 0
      }
     ]
    },
    "cfb464368e284bfc86d21811294ca6af": {
     "views": [
      {
       "cell_index": 0
      }
     ]
    },
    "d2ffa186b1cb4be9b8afec9a52fdf3fa": {
     "views": [
      {
       "cell_index": 0
      }
     ]
    },
    "d50e48c754c54187bd778fdf3c1c43d4": {
     "views": [
      {
       "cell_index": 0
      }
     ]
    },
    "d60d5244df234043b0bc56676355c4b0": {
     "views": [
      {
       "cell_index": 0
      }
     ]
    },
    "d869b722d0284bf1b29911050f783ff9": {
     "views": [
      {
       "cell_index": 0
      }
     ]
    },
    "dd27e15119c74b87aeb35bc3783aa283": {
     "views": [
      {
       "cell_index": 0
      }
     ]
    },
    "e0d1db55c0d24461bf0cb5521e8c8879": {
     "views": [
      {
       "cell_index": 0
      }
     ]
    },
    "e352d444b1154c5eb3a1798229c97ab1": {
     "views": [
      {
       "cell_index": 0
      }
     ]
    },
    "e47fdc6e01d64cd5bb8333e293891ee9": {
     "views": [
      {
       "cell_index": 0
      }
     ]
    },
    "e7c181247994493db563eb0e2a245899": {
     "views": [
      {
       "cell_index": 0
      }
     ]
    },
    "e7d296df280e4d7a98f7570277ca5189": {
     "views": [
      {
       "cell_index": 0
      }
     ]
    },
    "ece9fa7a8baa44239b20bbb2e6a439c2": {
     "views": [
      {
       "cell_index": 0
      }
     ]
    }
   },
   "version": "1.2.0"
  }
 },
 "nbformat": 4,
 "nbformat_minor": 4
}
