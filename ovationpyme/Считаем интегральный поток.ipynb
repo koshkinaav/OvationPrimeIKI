{
 "cells": [
  {
   "cell_type": "code",
   "execution_count": 5,
   "id": "16ba372169c395b7",
   "metadata": {
    "ExecuteTime": {
     "end_time": "2024-04-13T15:21:29.830518Z",
     "start_time": "2024-04-13T15:21:29.822880Z"
    }
   },
   "outputs": [],
   "source": [
    "import pandas as pd\n",
    "from  visual_test_ovation_prime import draw_weighted_flux\n",
    "from OmniInterval import OmniInterval\n",
    "from  tqdm import tqdm"
   ]
  },
  {
   "cell_type": "code",
   "execution_count": 6,
   "id": "f438797ecb847c2f",
   "metadata": {
    "ExecuteTime": {
     "end_time": "2024-04-13T15:21:30.208034Z",
     "start_time": "2024-04-13T15:21:29.956516Z"
    }
   },
   "outputs": [],
   "source": [
    "df = pd.read_csv('sattelities_data/ACE/ACE.csv')\n",
    "df['Epoch'] = pd.to_datetime(df['Epoch'])"
   ]
  },
  {
   "cell_type": "code",
   "execution_count": 7,
   "id": "af7c74319764af6a",
   "metadata": {
    "ExecuteTime": {
     "end_time": "2024-04-13T15:21:30.384273Z",
     "start_time": "2024-04-13T15:21:30.208967Z"
    }
   },
   "outputs": [
    {
     "name": "stderr",
     "output_type": "stream",
     "text": [
      "/var/folders/dz/gt13cmf51h755d9nll1kvmmw0000gq/T/ipykernel_49429/2672632773.py:1: FutureWarning: The behavior of DatetimeProperties.to_pydatetime is deprecated, in a future version this will return a Series containing python datetime objects instead of an ndarray. To retain the old behavior, call `np.array` on the result\n",
      "  df['Epoch'] = df['Epoch'].dt.to_pydatetime()\n"
     ]
    }
   ],
   "source": [
    "df['Epoch'] = df['Epoch'].dt.to_pydatetime()"
   ]
  },
  {
   "cell_type": "code",
   "execution_count": 8,
   "id": "e6b62966f8247706",
   "metadata": {
    "ExecuteTime": {
     "end_time": "2024-04-13T15:21:58.891740Z",
     "start_time": "2024-04-13T15:21:30.386628Z"
    }
   },
   "outputs": [
    {
     "name": "stderr",
     "output_type": "stream",
     "text": [
      "  0%|          | 15/315648 [00:28<165:44:18,  1.89s/it]\n",
      "\n",
      "KeyboardInterrupt\n",
      "\n"
     ]
    }
   ],
   "source": [
    "diff = {\n",
    "    'fluxN': [],\n",
    "    'fluxS': []\n",
    "}\n",
    "\n",
    "mono = {\n",
    "    'fluxN': [],\n",
    "    'fluxS': []\n",
    "}\n",
    "wave = {\n",
    "    'fluxN': [],\n",
    "    'fluxS': []\n",
    "}\n",
    "ions = {\n",
    "    'fluxN': [],\n",
    "    'fluxS': []\n",
    "}\n",
    "for idx, row in tqdm(df.iterrows(), total=df.shape[0]):\n",
    "    dt = row['Epoch']\n",
    "    r = pd.DataFrame([row])\n",
    "    oi = OmniInterval(r)\n",
    "\n",
    "    for atype, result in zip(['diff', 'mono', 'wave', 'ions'], [diff, mono, wave, ions]):\n",
    "        js = draw_weighted_flux(dt, oi, atype=atype, jtype='energy', satellite=['ACE'], only_value=True)\n",
    "        N = js['fluxN']\n",
    "        S = js['fluxS']\n",
    "        result['fluxN'].append(N)\n",
    "        result['fluxS'].append(S)\n"
   ]
  },
  {
   "cell_type": "code",
   "outputs": [],
   "source": [],
   "metadata": {
    "collapsed": false,
    "ExecuteTime": {
     "end_time": "2024-04-13T15:21:58.894135Z",
     "start_time": "2024-04-13T15:21:58.894008Z"
    }
   },
   "id": "511a257299e8db3d"
  },
  {
   "cell_type": "code",
   "outputs": [],
   "source": [],
   "metadata": {
    "collapsed": false
   },
   "id": "7d5edd1944ca8297"
  }
 ],
 "metadata": {
  "kernelspec": {
   "display_name": "Python 3 (ipykernel)",
   "language": "python",
   "name": "python3"
  },
  "language_info": {
   "codemirror_mode": {
    "name": "ipython",
    "version": 3
   },
   "file_extension": ".py",
   "mimetype": "text/x-python",
   "name": "python",
   "nbconvert_exporter": "python",
   "pygments_lexer": "ipython3",
   "version": "3.11.5"
  }
 },
 "nbformat": 4,
 "nbformat_minor": 5
}
