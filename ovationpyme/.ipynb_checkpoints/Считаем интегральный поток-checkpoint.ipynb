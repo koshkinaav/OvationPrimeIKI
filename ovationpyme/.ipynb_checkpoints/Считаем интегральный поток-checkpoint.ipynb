{
 "cells": [
  {
   "cell_type": "code",
   "execution_count": 34,
   "id": "16ba372169c395b7",
   "metadata": {
    "ExecuteTime": {
     "end_time": "2024-04-13T15:02:12.883269Z",
     "start_time": "2024-04-13T15:02:12.868345Z"
    }
   },
   "outputs": [],
   "source": [
    "import pandas as pd\n",
    "from  visual_test_ovation_prime import draw_weighted_flux\n",
    "from OmniInterval import OmniInterval\n",
    "from tqdm import tqdm"
   ]
  },
  {
   "cell_type": "code",
   "execution_count": 19,
   "id": "f438797ecb847c2f",
   "metadata": {
    "ExecuteTime": {
     "end_time": "2024-04-13T14:48:23.984914Z",
     "start_time": "2024-04-13T14:48:23.747030Z"
    }
   },
   "outputs": [],
   "source": [
    "df = pd.read_csv('sattelities_data/ACE/ACE.csv')\n",
    "df['Epoch'] = pd.to_datetime(df['Epoch'])"
   ]
  },
  {
   "cell_type": "code",
   "execution_count": 17,
   "id": "af7c74319764af6a",
   "metadata": {
    "ExecuteTime": {
     "end_time": "2024-04-13T14:47:52.521618Z",
     "start_time": "2024-04-13T14:47:52.424288Z"
    }
   },
   "outputs": [
    {
     "name": "stderr",
     "output_type": "stream",
     "text": [
      "/var/folders/dz/gt13cmf51h755d9nll1kvmmw0000gq/T/ipykernel_19428/2672632773.py:1: FutureWarning: The behavior of DatetimeProperties.to_pydatetime is deprecated, in a future version this will return a Series containing python datetime objects instead of an ndarray. To retain the old behavior, call `np.array` on the result\n",
      "  df['Epoch'] = df['Epoch'].dt.to_pydatetime()\n"
     ]
    }
   ],
   "source": [
    "df['Epoch'] = df['Epoch'].dt.to_pydatetime()"
   ]
  },
  {
   "cell_type": "code",
   "execution_count": 36,
   "id": "8c05cf01f39b144c",
   "metadata": {
    "ExecuteTime": {
     "end_time": "2024-04-13T15:02:38.079547Z",
     "start_time": "2024-04-13T15:02:25.416848Z"
    }
   },
   "outputs": [
    {
     "name": "stderr",
     "output_type": "stream",
     "text": [
      "  4%|▎         | 11480/315648 [00:02<01:12, 4189.38it/s]\n"
     ]
    },
    {
     "ename": "KeyboardInterrupt",
     "evalue": "",
     "output_type": "error",
     "traceback": [
      "\u001b[0;31m---------------------------------------------------------------------------\u001b[0m",
      "\u001b[0;31mKeyboardInterrupt\u001b[0m                         Traceback (most recent call last)",
      "Cell \u001b[0;32mIn[36], line 21\u001b[0m\n\u001b[1;32m     19\u001b[0m dt \u001b[38;5;241m=\u001b[39m row[\u001b[38;5;124m'\u001b[39m\u001b[38;5;124mEpoch\u001b[39m\u001b[38;5;124m'\u001b[39m]\n\u001b[1;32m     20\u001b[0m r \u001b[38;5;241m=\u001b[39m pd\u001b[38;5;241m.\u001b[39mDataFrame([row])\n\u001b[0;32m---> 21\u001b[0m oi \u001b[38;5;241m=\u001b[39m OmniInterval(r)\n",
      "File \u001b[0;32m~/PycharmProjects/OvationPrimeIKI/ovationpyme/OmniInterval.py:32\u001b[0m, in \u001b[0;36mOmniInterval.__init__\u001b[0;34m(self, df)\u001b[0m\n\u001b[1;32m     27\u001b[0m \u001b[38;5;28;01mdef\u001b[39;00m \u001b[38;5;21m__init__\u001b[39m(\u001b[38;5;28mself\u001b[39m, df):\n\u001b[1;32m     28\u001b[0m     \u001b[38;5;28mself\u001b[39m\u001b[38;5;241m.\u001b[39mcadence \u001b[38;5;241m=\u001b[39m \u001b[38;5;124m'\u001b[39m\u001b[38;5;124m5min\u001b[39m\u001b[38;5;124m'\u001b[39m\n\u001b[1;32m     29\u001b[0m     \u001b[38;5;28mself\u001b[39m\u001b[38;5;241m.\u001b[39m_data \u001b[38;5;241m=\u001b[39m {\n\u001b[1;32m     30\u001b[0m         \u001b[38;5;124m'\u001b[39m\u001b[38;5;124mEpoch\u001b[39m\u001b[38;5;124m'\u001b[39m: \u001b[38;5;28mlist\u001b[39m(df[\u001b[38;5;124m'\u001b[39m\u001b[38;5;124mEpoch\u001b[39m\u001b[38;5;124m'\u001b[39m]),\n\u001b[1;32m     31\u001b[0m         \u001b[38;5;124m'\u001b[39m\u001b[38;5;124mcadence\u001b[39m\u001b[38;5;124m'\u001b[39m: \u001b[38;5;124m'\u001b[39m\u001b[38;5;124mhourly\u001b[39m\u001b[38;5;124m'\u001b[39m,\n\u001b[0;32m---> 32\u001b[0m         \u001b[38;5;124m'\u001b[39m\u001b[38;5;124mBX_GSE\u001b[39m\u001b[38;5;124m'\u001b[39m: df[\u001b[38;5;124m'\u001b[39m\u001b[38;5;124mBX_GSE\u001b[39m\u001b[38;5;124m'\u001b[39m],\n\u001b[1;32m     33\u001b[0m         \u001b[38;5;124m'\u001b[39m\u001b[38;5;124mBY_GSM\u001b[39m\u001b[38;5;124m'\u001b[39m: df[\u001b[38;5;124m'\u001b[39m\u001b[38;5;124mBY_GSM\u001b[39m\u001b[38;5;124m'\u001b[39m],\n\u001b[1;32m     34\u001b[0m         \u001b[38;5;124m'\u001b[39m\u001b[38;5;124mBZ_GSM\u001b[39m\u001b[38;5;124m'\u001b[39m: df[\u001b[38;5;124m'\u001b[39m\u001b[38;5;124mBZ_GSM\u001b[39m\u001b[38;5;124m'\u001b[39m],\n\u001b[1;32m     35\u001b[0m         \u001b[38;5;124m'\u001b[39m\u001b[38;5;124mproton_density\u001b[39m\u001b[38;5;124m'\u001b[39m: df[\u001b[38;5;124m'\u001b[39m\u001b[38;5;124mproton_density\u001b[39m\u001b[38;5;124m'\u001b[39m],\n\u001b[1;32m     36\u001b[0m         \u001b[38;5;124m'\u001b[39m\u001b[38;5;124mflow_speed\u001b[39m\u001b[38;5;124m'\u001b[39m: df[\u001b[38;5;124m'\u001b[39m\u001b[38;5;124mflow_speed\u001b[39m\u001b[38;5;124m'\u001b[39m]\n\u001b[1;32m     37\u001b[0m     }\n",
      "File \u001b[0;32m~/anaconda3/lib/python3.11/site-packages/pandas/core/frame.py:3866\u001b[0m, in \u001b[0;36mDataFrame.__getitem__\u001b[0;34m(self, key)\u001b[0m\n\u001b[1;32m   3861\u001b[0m is_mi \u001b[38;5;241m=\u001b[39m \u001b[38;5;28misinstance\u001b[39m(\u001b[38;5;28mself\u001b[39m\u001b[38;5;241m.\u001b[39mcolumns, MultiIndex)\n\u001b[1;32m   3862\u001b[0m \u001b[38;5;66;03m# GH#45316 Return view if key is not duplicated\u001b[39;00m\n\u001b[1;32m   3863\u001b[0m \u001b[38;5;66;03m# Only use drop_duplicates with duplicates for performance\u001b[39;00m\n\u001b[1;32m   3864\u001b[0m \u001b[38;5;28;01mif\u001b[39;00m \u001b[38;5;129;01mnot\u001b[39;00m is_mi \u001b[38;5;129;01mand\u001b[39;00m (\n\u001b[1;32m   3865\u001b[0m     \u001b[38;5;28mself\u001b[39m\u001b[38;5;241m.\u001b[39mcolumns\u001b[38;5;241m.\u001b[39mis_unique\n\u001b[0;32m-> 3866\u001b[0m     \u001b[38;5;129;01mand\u001b[39;00m key \u001b[38;5;129;01min\u001b[39;00m \u001b[38;5;28mself\u001b[39m\u001b[38;5;241m.\u001b[39mcolumns\n\u001b[1;32m   3867\u001b[0m     \u001b[38;5;129;01mor\u001b[39;00m key \u001b[38;5;129;01min\u001b[39;00m \u001b[38;5;28mself\u001b[39m\u001b[38;5;241m.\u001b[39mcolumns\u001b[38;5;241m.\u001b[39mdrop_duplicates(keep\u001b[38;5;241m=\u001b[39m\u001b[38;5;28;01mFalse\u001b[39;00m)\n\u001b[1;32m   3868\u001b[0m ):\n\u001b[1;32m   3869\u001b[0m     \u001b[38;5;28;01mreturn\u001b[39;00m \u001b[38;5;28mself\u001b[39m\u001b[38;5;241m.\u001b[39m_get_item_cache(key)\n\u001b[1;32m   3871\u001b[0m \u001b[38;5;28;01melif\u001b[39;00m is_mi \u001b[38;5;129;01mand\u001b[39;00m \u001b[38;5;28mself\u001b[39m\u001b[38;5;241m.\u001b[39mcolumns\u001b[38;5;241m.\u001b[39mis_unique \u001b[38;5;129;01mand\u001b[39;00m key \u001b[38;5;129;01min\u001b[39;00m \u001b[38;5;28mself\u001b[39m\u001b[38;5;241m.\u001b[39mcolumns:\n",
      "File \u001b[0;32m~/anaconda3/lib/python3.11/site-packages/pandas/core/indexes/base.py:5300\u001b[0m, in \u001b[0;36mIndex.__contains__\u001b[0;34m(self, key)\u001b[0m\n\u001b[1;32m   5295\u001b[0m \u001b[38;5;250m    \u001b[39m\u001b[38;5;124;03m\"\"\"\u001b[39;00m\n\u001b[1;32m   5296\u001b[0m \u001b[38;5;124;03m    Return a boolean if we need a qualified .info display.\u001b[39;00m\n\u001b[1;32m   5297\u001b[0m \u001b[38;5;124;03m    \"\"\"\u001b[39;00m\n\u001b[1;32m   5298\u001b[0m     \u001b[38;5;28;01mreturn\u001b[39;00m is_object_dtype(\u001b[38;5;28mself\u001b[39m\u001b[38;5;241m.\u001b[39mdtype)\n\u001b[0;32m-> 5300\u001b[0m \u001b[38;5;28;01mdef\u001b[39;00m \u001b[38;5;21m__contains__\u001b[39m(\u001b[38;5;28mself\u001b[39m, key: Any) \u001b[38;5;241m-\u001b[39m\u001b[38;5;241m>\u001b[39m \u001b[38;5;28mbool\u001b[39m:\n\u001b[1;32m   5301\u001b[0m \u001b[38;5;250m    \u001b[39m\u001b[38;5;124;03m\"\"\"\u001b[39;00m\n\u001b[1;32m   5302\u001b[0m \u001b[38;5;124;03m    Return a boolean indicating whether the provided key is in the index.\u001b[39;00m\n\u001b[1;32m   5303\u001b[0m \n\u001b[0;32m   (...)\u001b[0m\n\u001b[1;32m   5333\u001b[0m \u001b[38;5;124;03m    False\u001b[39;00m\n\u001b[1;32m   5334\u001b[0m \u001b[38;5;124;03m    \"\"\"\u001b[39;00m\n\u001b[1;32m   5335\u001b[0m     \u001b[38;5;28mhash\u001b[39m(key)\n",
      "\u001b[0;31mKeyboardInterrupt\u001b[0m: "
     ]
    }
   ],
   "source": [
    "diff = {\n",
    "    'fluxN': [],\n",
    "    'fluxS': []\n",
    "}\n",
    "\n",
    "mono = {\n",
    "    'fluxN': [],\n",
    "    'fluxS': []\n",
    "}\n",
    "wave = {\n",
    "    'fluxN': [],\n",
    "    'fluxS': []\n",
    "}\n",
    "ions = {\n",
    "    'fluxN': [],\n",
    "    'fluxS': []\n",
    "}\n",
    "for idx, row in tqdm(df.iterrows(),total=df.shape[0]):\n",
    "    dt = row['Epoch']\n",
    "    r = pd.DataFrame([row])\n",
    "    oi = OmniInterval(r)\n",
    "    for atype, result in zip(['diff', 'mono', 'wave', 'ions'], [diff, mono, wave, ions]):\n",
    "        js = draw_weighted_flux(dt, oi,  atype=atype, jtype='energy', satellite=['ACE'], only_value=True)\n",
    "        N = js['fluxN']\n",
    "        S = js['fluxS']\n",
    "        result['fluxN'].append(N)\n",
    "        result['fluxS'].append(S)\n",
    "        "
   ]
  },
  {
   "cell_type": "code",
   "execution_count": 30,
   "id": "fc2a432b462c2342",
   "metadata": {
    "ExecuteTime": {
     "end_time": "2024-04-13T14:59:57.517267Z",
     "start_time": "2024-04-13T14:59:57.513520Z"
    }
   },
   "outputs": [
    {
     "data": {
      "text/html": [
       "<div>\n",
       "<style scoped>\n",
       "    .dataframe tbody tr th:only-of-type {\n",
       "        vertical-align: middle;\n",
       "    }\n",
       "\n",
       "    .dataframe tbody tr th {\n",
       "        vertical-align: top;\n",
       "    }\n",
       "\n",
       "    .dataframe thead th {\n",
       "        text-align: right;\n",
       "    }\n",
       "</style>\n",
       "<table border=\"1\" class=\"dataframe\">\n",
       "  <thead>\n",
       "    <tr style=\"text-align: right;\">\n",
       "      <th></th>\n",
       "      <th>Year</th>\n",
       "      <th>Day</th>\n",
       "      <th>Hour</th>\n",
       "      <th>Minute</th>\n",
       "      <th>BX_GSE</th>\n",
       "      <th>BY_GSM</th>\n",
       "      <th>BZ_GSM</th>\n",
       "      <th>Vx</th>\n",
       "      <th>Vy</th>\n",
       "      <th>Vz</th>\n",
       "      <th>newell</th>\n",
       "      <th>proton_density</th>\n",
       "      <th>flow_speed</th>\n",
       "      <th>Epoch</th>\n",
       "    </tr>\n",
       "  </thead>\n",
       "  <tbody>\n",
       "    <tr>\n",
       "      <th>0</th>\n",
       "      <td>2016.0</td>\n",
       "      <td>1.0</td>\n",
       "      <td>0.0</td>\n",
       "      <td>0.0</td>\n",
       "      <td>4.52</td>\n",
       "      <td>3.24</td>\n",
       "      <td>-14.28</td>\n",
       "      <td>-453.8</td>\n",
       "      <td>8.9</td>\n",
       "      <td>23.8</td>\n",
       "      <td>205.710619</td>\n",
       "      <td>2.44</td>\n",
       "      <td>454.6</td>\n",
       "      <td>2016-01-01</td>\n",
       "    </tr>\n",
       "  </tbody>\n",
       "</table>\n",
       "</div>"
      ],
      "text/plain": [
       "     Year  Day  Hour  Minute  BX_GSE  BY_GSM  BZ_GSM     Vx   Vy    Vz  \\\n",
       "0  2016.0  1.0   0.0     0.0    4.52    3.24  -14.28 -453.8  8.9  23.8   \n",
       "\n",
       "       newell  proton_density  flow_speed      Epoch  \n",
       "0  205.710619            2.44       454.6 2016-01-01  "
      ]
     },
     "execution_count": 30,
     "metadata": {},
     "output_type": "execute_result"
    }
   ],
   "source": [
    "pd.DataFrame([row])"
   ]
  },
  {
   "cell_type": "code",
   "execution_count": 29,
   "id": "76ff7db5036f4054",
   "metadata": {
    "ExecuteTime": {
     "end_time": "2024-04-13T14:58:55.131279Z",
     "start_time": "2024-04-13T14:58:55.128272Z"
    }
   },
   "outputs": [
    {
     "data": {
      "text/html": [
       "<div>\n",
       "<style scoped>\n",
       "    .dataframe tbody tr th:only-of-type {\n",
       "        vertical-align: middle;\n",
       "    }\n",
       "\n",
       "    .dataframe tbody tr th {\n",
       "        vertical-align: top;\n",
       "    }\n",
       "\n",
       "    .dataframe thead th {\n",
       "        text-align: right;\n",
       "    }\n",
       "</style>\n",
       "<table border=\"1\" class=\"dataframe\">\n",
       "  <thead>\n",
       "    <tr style=\"text-align: right;\">\n",
       "      <th></th>\n",
       "      <th>index</th>\n",
       "      <th>0</th>\n",
       "    </tr>\n",
       "  </thead>\n",
       "  <tbody>\n",
       "    <tr>\n",
       "      <th>0</th>\n",
       "      <td>Year</td>\n",
       "      <td>2016.0</td>\n",
       "    </tr>\n",
       "    <tr>\n",
       "      <th>1</th>\n",
       "      <td>Day</td>\n",
       "      <td>1.0</td>\n",
       "    </tr>\n",
       "    <tr>\n",
       "      <th>2</th>\n",
       "      <td>Hour</td>\n",
       "      <td>0.0</td>\n",
       "    </tr>\n",
       "    <tr>\n",
       "      <th>3</th>\n",
       "      <td>Minute</td>\n",
       "      <td>0.0</td>\n",
       "    </tr>\n",
       "    <tr>\n",
       "      <th>4</th>\n",
       "      <td>BX_GSE</td>\n",
       "      <td>4.52</td>\n",
       "    </tr>\n",
       "    <tr>\n",
       "      <th>5</th>\n",
       "      <td>BY_GSM</td>\n",
       "      <td>3.24</td>\n",
       "    </tr>\n",
       "    <tr>\n",
       "      <th>6</th>\n",
       "      <td>BZ_GSM</td>\n",
       "      <td>-14.28</td>\n",
       "    </tr>\n",
       "    <tr>\n",
       "      <th>7</th>\n",
       "      <td>Vx</td>\n",
       "      <td>-453.8</td>\n",
       "    </tr>\n",
       "    <tr>\n",
       "      <th>8</th>\n",
       "      <td>Vy</td>\n",
       "      <td>8.9</td>\n",
       "    </tr>\n",
       "    <tr>\n",
       "      <th>9</th>\n",
       "      <td>Vz</td>\n",
       "      <td>23.8</td>\n",
       "    </tr>\n",
       "    <tr>\n",
       "      <th>10</th>\n",
       "      <td>newell</td>\n",
       "      <td>205.710619</td>\n",
       "    </tr>\n",
       "    <tr>\n",
       "      <th>11</th>\n",
       "      <td>proton_density</td>\n",
       "      <td>2.44</td>\n",
       "    </tr>\n",
       "    <tr>\n",
       "      <th>12</th>\n",
       "      <td>flow_speed</td>\n",
       "      <td>454.6</td>\n",
       "    </tr>\n",
       "    <tr>\n",
       "      <th>13</th>\n",
       "      <td>Epoch</td>\n",
       "      <td>2016-01-01 00:00:00</td>\n",
       "    </tr>\n",
       "  </tbody>\n",
       "</table>\n",
       "</div>"
      ],
      "text/plain": [
       "             index                    0\n",
       "0             Year               2016.0\n",
       "1              Day                  1.0\n",
       "2             Hour                  0.0\n",
       "3           Minute                  0.0\n",
       "4           BX_GSE                 4.52\n",
       "5           BY_GSM                 3.24\n",
       "6           BZ_GSM               -14.28\n",
       "7               Vx               -453.8\n",
       "8               Vy                  8.9\n",
       "9               Vz                 23.8\n",
       "10          newell           205.710619\n",
       "11  proton_density                 2.44\n",
       "12      flow_speed                454.6\n",
       "13           Epoch  2016-01-01 00:00:00"
      ]
     },
     "execution_count": 29,
     "metadata": {},
     "output_type": "execute_result"
    }
   ],
   "source": [
    "row."
   ]
  },
  {
   "cell_type": "code",
   "execution_count": null,
   "id": "e6b62966f8247706",
   "metadata": {},
   "outputs": [],
   "source": []
  }
 ],
 "metadata": {
  "kernelspec": {
   "display_name": "Python 3 (ipykernel)",
   "language": "python",
   "name": "python3"
  },
  "language_info": {
   "codemirror_mode": {
    "name": "ipython",
    "version": 3
   },
   "file_extension": ".py",
   "mimetype": "text/x-python",
   "name": "python",
   "nbconvert_exporter": "python",
   "pygments_lexer": "ipython3",
   "version": "3.11.5"
  }
 },
 "nbformat": 4,
 "nbformat_minor": 5
}
