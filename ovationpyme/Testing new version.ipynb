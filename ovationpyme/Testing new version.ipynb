{
 "cells": [
  {
   "cell_type": "code",
   "outputs": [
    {
     "name": "stdout",
     "output_type": "stream",
     "text": [
      "Solar wind data files will be saved to /Users/a.konkin/Library/Application Support/nasaomnireader\n"
     ]
    }
   ],
   "source": [
    "import datetime\n",
    "from collections import OrderedDict\n",
    "import numpy as np\n",
    "import functools\n",
    "\n",
    "from geospacepy import special_datetime, sun\n",
    "from nasaomnireader.omnireader import omni_interval\n",
    "from logbook import Logger\n",
    "\n",
    "log = Logger('OvationPyme.ovation_utilites')"
   ],
   "metadata": {
    "collapsed": false,
    "ExecuteTime": {
     "end_time": "2024-04-13T09:37:44.576565Z",
     "start_time": "2024-04-13T09:37:43.768371Z"
    }
   },
   "id": "8fe61f02e6ce9552",
   "execution_count": 1
  },
  {
   "cell_type": "code",
   "outputs": [],
   "source": [
    "need_new_oi = True\n",
    "dt = datetime.datetime(2023, 9, 1, 12, 10, 0)\n",
    "tol_hrs_before = 4\n",
    "tol_hrs_after = 1\n",
    "new_interval_days_before_dt = 1.5\n",
    "new_interval_days_after_dt = 1.5\n",
    "cadence = '5min'"
   ],
   "metadata": {
    "collapsed": false,
    "ExecuteTime": {
     "end_time": "2024-04-13T09:39:24.634036Z",
     "start_time": "2024-04-13T09:39:24.631925Z"
    }
   },
   "id": "3cb7b9c9161bfbfe",
   "execution_count": 8
  },
  {
   "cell_type": "code",
   "outputs": [],
   "source": [
    "cache = {}"
   ],
   "metadata": {
    "collapsed": false,
    "ExecuteTime": {
     "end_time": "2024-04-13T09:39:24.746376Z",
     "start_time": "2024-04-13T09:39:24.743736Z"
    }
   },
   "id": "7eeac59dff03d67e",
   "execution_count": 9
  },
  {
   "cell_type": "code",
   "outputs": [],
   "source": [
    "if need_new_oi:\n",
    "    startdt = dt - datetime.timedelta(days=new_interval_days_before_dt)\n",
    "    enddt = dt + datetime.timedelta(days=new_interval_days_after_dt)\n",
    "\n",
    "    oi = omni_interval(startdt, enddt, cadence, silent=True)\n",
    "\n",
    "    # Save to cache\n",
    "    cache['omni_interval_{}'.format(cadence)] = oi\n",
    "    log.debug(\"Created new solar wind interval: {}-{}\".format(oi.startdt,\n",
    "                                                              oi.enddt))\n",
    "else:\n",
    "    # Load from cache\n",
    "    oi = cache['omni_interval_{}'.format(cadence)]\n",
    "\n",
    "    log.debug(\"Using cached solar wind interval: {}-{}\".format(oi.startdt,\n",
    "                                                               oi.enddt))\n",
    "\n",
    "  \n"
   ],
   "metadata": {
    "collapsed": true,
    "ExecuteTime": {
     "end_time": "2024-04-13T09:39:24.894608Z",
     "start_time": "2024-04-13T09:39:24.863188Z"
    }
   },
   "id": "initial_id",
   "execution_count": 10
  },
  {
   "cell_type": "code",
   "outputs": [
    {
     "name": "stdout",
     "output_type": "stream",
     "text": [
      "Help on class omni_interval in module nasaomnireader.omnireader:\n",
      "\n",
      "class omni_interval(builtins.object)\n",
      " |  omni_interval(startdt, enddt, cadence, silent=False, cdf_or_txt='cdf', force_download=False)\n",
      " |  \n",
      " |  Methods defined here:\n",
      " |  \n",
      " |  __getitem__(self, cdfvar)\n",
      " |  \n",
      " |  __init__(self, startdt, enddt, cadence, silent=False, cdf_or_txt='cdf', force_download=False)\n",
      " |      Initialize self.  See help(type(self)) for accurate signature.\n",
      " |  \n",
      " |  __str__(self)\n",
      " |      Return str(self).\n",
      " |  \n",
      " |  add_transform(self, cdfvar, cadences, fcn, desc)\n",
      " |      Call some function to manipulate the returned data\n",
      " |      whenever a particular CDF variable is '__getitem__'d\n",
      " |      Added to fix the obnoxious hourly 'KP' variable being Kp*10\n",
      " |      source of confusion.\n",
      " |      \n",
      " |      Arguments:\n",
      " |          cdfvar - str\n",
      " |              name of cdf variable\n",
      " |          cadences - list\n",
      " |              cadences which have this variable\n",
      " |          fcn - function\n",
      " |              function to call to manipulate data\n",
      " |          desc - description of manipulation performed\n",
      " |  \n",
      " |  get_var_attr(self, var, att)\n",
      " |      Get a variable attribute\n",
      " |  \n",
      " |  ----------------------------------------------------------------------\n",
      " |  Data descriptors defined here:\n",
      " |  \n",
      " |  __dict__\n",
      " |      dictionary for instance variables (if defined)\n",
      " |  \n",
      " |  __weakref__\n",
      " |      list of weak references to the object (if defined)\n"
     ]
    }
   ],
   "source": [
    "import nasaomnireader\n",
    "help(nasaomnireader.omnireader.omni_interval)"
   ],
   "metadata": {
    "collapsed": false,
    "ExecuteTime": {
     "end_time": "2024-04-13T09:23:24.274635Z",
     "start_time": "2024-04-13T09:23:24.216253Z"
    }
   },
   "id": "3bfbd8f83ba3d9d5",
   "execution_count": 17
  },
  {
   "cell_type": "code",
   "outputs": [
    {
     "data": {
      "text/plain": "[<CDF:\n AE_INDEX: CDF_INT4 [8928]\n AL_INDEX: CDF_INT4 [8928]\n ASY_D: CDF_INT4 [8928]\n ASY_H: CDF_INT4 [8928]\n AU_INDEX: CDF_INT4 [8928]\n BSN_x: CDF_REAL4 [8928]\n BSN_y: CDF_REAL4 [8928]\n BSN_z: CDF_REAL4 [8928]\n BX_GSE: CDF_REAL4 [8928]\n BY_GSE: CDF_REAL4 [8928]\n BY_GSM: CDF_REAL4 [8928]\n BZ_GSE: CDF_REAL4 [8928]\n BZ_GSM: CDF_REAL4 [8928]\n Beta: CDF_REAL4 [8928]\n Day: CDF_INT4 [8928]\n E: CDF_REAL4 [8928]\n Epoch: CDF_EPOCH [8928]\n F: CDF_REAL4 [8928]\n HR: CDF_INT4 [8928]\n IMF: CDF_INT4 [8928]\n IMF_PTS: CDF_INT4 [8928]\n Mach_num: CDF_REAL4 [8928]\n Mgs_mach_num: CDF_REAL4 [8928]\n Minute: CDF_INT4 [8928]\n PC_N_INDEX: CDF_REAL4 [8928]\n PLS: CDF_INT4 [8928]\n PLS_PTS: CDF_INT4 [8928]\n PR-FLX_10: CDF_REAL4 [8928]\n PR-FLX_30: CDF_REAL4 [8928]\n PR-FLX_60: CDF_REAL4 [8928]\n Pressure: CDF_REAL4 [8928]\n RMS_SD_B: CDF_REAL4 [8928]\n RMS_SD_fld_vec: CDF_REAL4 [8928]\n RMS_Timeshift: CDF_INT4 [8928]\n SYM_D: CDF_INT4 [8928]\n SYM_H: CDF_INT4 [8928]\n T: CDF_REAL4 [8928]\n Time_btwn_obs: CDF_INT4 [8928]\n Timeshift: CDF_INT4 [8928]\n Vx: CDF_REAL4 [8928]\n Vy: CDF_REAL4 [8928]\n Vz: CDF_REAL4 [8928]\n YR: CDF_INT4 [8928]\n flow_speed: CDF_REAL4 [8928]\n percent_interp: CDF_INT4 [8928]\n proton_density: CDF_REAL4 [8928]\n x: CDF_REAL4 [8928]\n y: CDF_REAL4 [8928]\n z: CDF_REAL4 [8928]\n >,\n <CDF:\n AE_INDEX: CDF_INT4 [8640]\n AL_INDEX: CDF_INT4 [8640]\n ASY_D: CDF_INT4 [8640]\n ASY_H: CDF_INT4 [8640]\n AU_INDEX: CDF_INT4 [8640]\n BSN_x: CDF_REAL4 [8640]\n BSN_y: CDF_REAL4 [8640]\n BSN_z: CDF_REAL4 [8640]\n BX_GSE: CDF_REAL4 [8640]\n BY_GSE: CDF_REAL4 [8640]\n BY_GSM: CDF_REAL4 [8640]\n BZ_GSE: CDF_REAL4 [8640]\n BZ_GSM: CDF_REAL4 [8640]\n Beta: CDF_REAL4 [8640]\n Day: CDF_INT4 [8640]\n E: CDF_REAL4 [8640]\n Epoch: CDF_EPOCH [8640]\n F: CDF_REAL4 [8640]\n HR: CDF_INT4 [8640]\n IMF: CDF_INT4 [8640]\n IMF_PTS: CDF_INT4 [8640]\n Mach_num: CDF_REAL4 [8640]\n Mgs_mach_num: CDF_REAL4 [8640]\n Minute: CDF_INT4 [8640]\n PC_N_INDEX: CDF_REAL4 [8640]\n PLS: CDF_INT4 [8640]\n PLS_PTS: CDF_INT4 [8640]\n PR-FLX_10: CDF_REAL4 [8640]\n PR-FLX_30: CDF_REAL4 [8640]\n PR-FLX_60: CDF_REAL4 [8640]\n Pressure: CDF_REAL4 [8640]\n RMS_SD_B: CDF_REAL4 [8640]\n RMS_SD_fld_vec: CDF_REAL4 [8640]\n RMS_Timeshift: CDF_INT4 [8640]\n SYM_D: CDF_INT4 [8640]\n SYM_H: CDF_INT4 [8640]\n T: CDF_REAL4 [8640]\n Time_btwn_obs: CDF_INT4 [8640]\n Timeshift: CDF_INT4 [8640]\n Vx: CDF_REAL4 [8640]\n Vy: CDF_REAL4 [8640]\n Vz: CDF_REAL4 [8640]\n YR: CDF_INT4 [8640]\n flow_speed: CDF_REAL4 [8640]\n percent_interp: CDF_INT4 [8640]\n proton_density: CDF_REAL4 [8640]\n x: CDF_REAL4 [8640]\n y: CDF_REAL4 [8640]\n z: CDF_REAL4 [8640]\n >]"
     },
     "execution_count": 24,
     "metadata": {},
     "output_type": "execute_result"
    }
   ],
   "source": [
    "oi.__dict__['cdfs']"
   ],
   "metadata": {
    "collapsed": false,
    "ExecuteTime": {
     "end_time": "2024-04-13T09:24:58.890753Z",
     "start_time": "2024-04-13T09:24:58.885431Z"
    }
   },
   "id": "fd1aeb94d58b886c",
   "execution_count": 24
  },
  {
   "cell_type": "code",
   "outputs": [
    {
     "name": "stdout",
     "output_type": "stream",
     "text": [
      "hourly\n"
     ]
    }
   ],
   "source": [
    "from OmniInterval import OmniInterval"
   ],
   "metadata": {
    "collapsed": false,
    "ExecuteTime": {
     "end_time": "2024-04-13T09:37:52.740605Z",
     "start_time": "2024-04-13T09:37:52.738077Z"
    }
   },
   "id": "90f4a5f05152203",
   "execution_count": 3
  },
  {
   "cell_type": "code",
   "outputs": [],
   "source": [
    "oi = OmniInterval()\n"
   ],
   "metadata": {
    "collapsed": false,
    "ExecuteTime": {
     "end_time": "2024-04-13T09:37:53.113474Z",
     "start_time": "2024-04-13T09:37:53.109767Z"
    }
   },
   "id": "8a5eb347ec3f92f3",
   "execution_count": 4
  },
  {
   "cell_type": "code",
   "outputs": [],
   "source": [
    "from ovation_utilities import read_solarwind"
   ],
   "metadata": {
    "collapsed": false,
    "ExecuteTime": {
     "end_time": "2024-04-13T09:37:53.439236Z",
     "start_time": "2024-04-13T09:37:53.433206Z"
    }
   },
   "id": "e92542cc2a4d5f12",
   "execution_count": 5
  },
  {
   "cell_type": "code",
   "outputs": [
    {
     "ename": "AttributeError",
     "evalue": "'OmniInterval' object has no attribute 'cadence'",
     "output_type": "error",
     "traceback": [
      "\u001B[0;31m---------------------------------------------------------------------------\u001B[0m",
      "\u001B[0;31mAttributeError\u001B[0m                            Traceback (most recent call last)",
      "Cell \u001B[0;32mIn[6], line 1\u001B[0m\n\u001B[0;32m----> 1\u001B[0m read_solarwind(dt, oi)\n",
      "File \u001B[0;32m~/PycharmProjects/OvationPrimeIKI/ovationpyme/ovation_utilities.py:107\u001B[0m, in \u001B[0;36mread_solarwind\u001B[0;34m(dt, oi)\u001B[0m\n\u001B[1;32m    101\u001B[0m \u001B[38;5;28;01mdef\u001B[39;00m \u001B[38;5;21mread_solarwind\u001B[39m(dt, oi):\n\u001B[1;32m    103\u001B[0m \u001B[38;5;250m    \u001B[39m\u001B[38;5;124;03m\"\"\"Get the solar wind parameters involved in the Newell coupling\u001B[39;00m\n\u001B[1;32m    104\u001B[0m \u001B[38;5;124;03m    function at an hourly cadence (regardless of the cadence of the\u001B[39;00m\n\u001B[1;32m    105\u001B[0m \u001B[38;5;124;03m    omni_interval input oi)\u001B[39;00m\n\u001B[1;32m    106\u001B[0m \u001B[38;5;124;03m    \"\"\"\u001B[39;00m\n\u001B[0;32m--> 107\u001B[0m     \u001B[38;5;28;01mif\u001B[39;00m oi\u001B[38;5;241m.\u001B[39mcadence \u001B[38;5;241m==\u001B[39m \u001B[38;5;124m'\u001B[39m\u001B[38;5;124mhourly\u001B[39m\u001B[38;5;124m'\u001B[39m:\n\u001B[1;32m    108\u001B[0m         velvar, densvar \u001B[38;5;241m=\u001B[39m \u001B[38;5;124m'\u001B[39m\u001B[38;5;124mV\u001B[39m\u001B[38;5;124m'\u001B[39m, \u001B[38;5;124m'\u001B[39m\u001B[38;5;124mN\u001B[39m\u001B[38;5;124m'\u001B[39m\n\u001B[1;32m    109\u001B[0m     \u001B[38;5;28;01melse\u001B[39;00m:\n",
      "\u001B[0;31mAttributeError\u001B[0m: 'OmniInterval' object has no attribute 'cadence'"
     ]
    }
   ],
   "source": [
    "read_solarwind(dt, oi)"
   ],
   "metadata": {
    "collapsed": false,
    "ExecuteTime": {
     "end_time": "2024-04-13T09:37:54.271797Z",
     "start_time": "2024-04-13T09:37:54.086258Z"
    }
   },
   "id": "db2557f1148a02d1",
   "execution_count": 6
  },
  {
   "cell_type": "code",
   "outputs": [
    {
     "data": {
      "text/plain": "array([ 2.89,  4.41,  2.23,  4.99,  5.09,  4.53,  4.48,  3.91,  3.77,\n        4.66,  4.26,  4.91,  4.44,  3.92,  2.94,  4.27,  2.53,  2.47,\n        2.92,  2.46,  3.09,  3.66,  4.31,  3.57,  1.15, -0.42,  0.77,\n        2.36,  2.22,  3.04,  3.52,  3.86,  4.09,  3.94,  3.69,  3.61,\n        4.25,  4.51,  4.  ,  3.72,  4.38,  4.89,  5.84,  6.09,  5.67,\n        6.49,  6.05,  4.94,  6.66,  6.38,  6.48,  6.68,  6.56,  5.96,\n        4.46,  3.93,  4.  ,  4.17,  3.93,  4.06,  4.16,  4.1 ,  3.84,\n        5.1 ,  5.04,  4.91,  4.96,  4.48,  3.99,  5.12,  5.08,  4.44,\n        3.45,  2.99,  2.75,  2.83,  2.92,  2.94,  2.79,  3.07,  2.52,\n        2.71,  2.39,  1.58,  1.25,  1.95,  1.69,  1.85,  2.87,  2.9 ,\n        3.05,  3.4 ,  2.86,  3.92,  3.03,  5.04,  5.69,  5.81,  5.91,\n        5.93,  5.3 ,  5.22,  5.64,  5.67,  5.81,  5.75,  5.76,  5.74,\n        5.83,  4.07,  2.43,  2.39,  1.77,  2.24,  2.42,  3.15,  4.83,\n        4.46,  3.86,  4.03,  3.14,  2.7 ,  2.92,  1.77,  0.78,  1.18,\n        0.79,  0.47,  1.4 , -0.42, -2.49, -2.25, -2.65, -2.27, -2.53,\n       -2.97, -3.77, -2.16, -2.19, -3.24, -3.05, -3.24, -3.09, -3.38,\n       -2.86, -2.81, -3.53, -3.02, -2.71, -2.86, -2.22, -2.56, -2.9 ,\n       -4.14, -3.66, -2.94, -1.69, -1.05, -1.91, -1.64, -1.17, -3.05,\n       -3.12, -2.74, -3.68, -3.41, -3.13, -3.34, -1.39, -0.87,  0.55,\n        0.47, -1.39, -1.88, -3.11, -4.09, -3.08,  0.72,  0.44, -3.5 ,\n       -3.16, -2.86, -1.84,  0.24,  0.51,  1.72,  1.11,  0.52,  1.15,\n        3.99,  5.06,  4.72,  4.85,  5.28,  5.96,  6.47,  6.5 ,  7.03,\n        7.07,  6.97,  6.64,  6.58,  6.85,  6.41,  5.17,  5.49,  5.74,\n        5.13,  5.02,  5.34,  4.82,  5.08,  4.88,  2.76,  2.93, -1.47,\n        0.24, -1.76, -1.63, -0.97, -3.67, -5.73, -6.59, -5.34, -2.8 ,\n       -1.94, -1.69, -2.37, -1.41, -2.07, -2.26, -4.07, -4.19, -4.71,\n       -5.08, -3.22, -0.24,  0.25,  0.24,  0.2 ,  2.23,  0.13, -2.24,\n       -2.97, -3.62, -4.42, -3.5 , -3.19, -1.87, -1.93, -0.4 ,  0.43,\n        0.87,  0.3 ,  0.27,  0.56,  2.98,  2.68,  1.65,  0.23, -2.96,\n       -1.86,  1.2 , -0.75,  1.89,  3.07,  3.68,  5.06,  5.84,  4.65,\n        5.29,  5.96,  5.61,  6.15,  5.68,  5.06,  4.48,  3.78,  4.98,\n        6.  ,  6.02,  4.96,  5.4 ,  6.74,  4.19, -1.32, -3.65, -1.86,\n       -1.43,  0.26,  1.13,  3.98,  5.29,  7.62,  3.62,  2.08, -0.42,\n        0.23, -0.1 ,  0.19,  0.33, -0.28, -0.99, -0.83, -1.63,  0.28,\n       -0.39, -0.27,  4.09,  7.84,  8.18,  8.6 ,  8.38,  8.35,  8.1 ,\n        8.36,  8.1 ,  7.24,  6.89,  5.77,  4.5 , -0.33, -2.51, -1.42,\n       -2.49, -0.99, -0.83, -1.1 ,  4.23, -0.17, -1.82, -3.09, -4.21,\n       -4.21, -4.3 , -4.82, -5.47, -5.24, -5.08, -5.01, -5.12, -4.84,\n       -4.68, -3.61, -4.05, -2.47,  3.69,  6.26,  5.5 ,  3.41,  3.99,\n        2.51,  2.03,  3.94,  4.57,  3.76,  3.41,  3.84,  3.77,  4.29,\n        1.47,  1.3 ,  1.1 ,  0.83,  0.61, -0.4 ,  0.37, -1.28, -0.67,\n       -0.41,  0.41,  3.52,  4.11,  3.14,  1.24, -0.92, -4.52, -1.96,\n       -0.92, -0.65, -3.97, -3.23, -3.48, -2.26, -0.92, -3.55, -2.95,\n       -1.73, -2.11, -1.61, -2.11, -3.38, -1.28, -2.81, -1.76,  0.12,\n        0.32, -0.47, -0.1 , -0.82, -4.62, -7.52, -7.97, -7.55, -7.21,\n       -7.12, -5.89, -2.96, -2.35, -2.26, -2.19, -1.29, -0.75, -1.96,\n       -3.97, -3.68, -2.44, -3.75, -6.43, -6.33, -2.68, -2.78, -3.63,\n       -3.58, -2.19,  0.21,  0.27, -1.07, -2.34, -2.91, -3.32, -2.96,\n       -2.07, -0.53,  0.09,  5.9 ,  6.29,  7.93,  9.92,  4.51,  1.61,\n       -3.1 , -3.  , -4.65, -4.2 , -5.06, -4.96, -5.63, -6.22, -4.29,\n       -5.22, -5.96, -6.17, -6.43, -6.77, -4.74, -6.26, -6.33, -6.93,\n       -6.93, -6.5 , -6.04, -5.64, -5.03, -4.94, -7.3 , -5.58, -4.88,\n       -4.18, -4.09, -4.49, -4.69, -5.2 , -5.83, -5.72, -5.7 , -5.55,\n       -5.29, -5.2 , -5.16, -5.51, -4.96, -5.44, -5.03, -5.19, -5.18,\n       -5.18, -6.66, -6.64, -6.69, -6.29, -6.42, -6.28, -6.11, -5.92,\n       -5.29, -5.53, -5.28, -5.5 , -3.6 , -2.9 , -3.46, -4.11, -4.15,\n       -4.65, -4.37, -3.45, -3.74, -2.82, -4.35, -5.03, -4.79, -4.38,\n       -4.95, -4.08, -3.92, -2.22, -4.47, -5.37, -6.43, -7.22, -7.55,\n       -7.27, -6.45, -6.26, -6.35, -6.47, -6.61, -6.31, -6.52, -6.89,\n       -6.81, -6.88, -7.16, -7.08, -7.17, -7.17, -7.23, -7.35, -7.33,\n       -7.19, -7.34, -7.47, -7.41, -7.29, -7.37, -7.92, -8.01, -7.94,\n       -8.11, -8.16, -8.17, -7.7 , -7.46, -6.98, -6.48, -5.96, -5.04,\n       -5.35, -5.28, -5.17, -5.15, -4.77, -4.77, -5.03, -5.28, -4.84,\n       -4.82, -4.32,  0.25, -2.46, -5.93, -5.9 , -4.68, -2.91, -2.86,\n       -3.29, -3.09, -2.73, -2.95, -3.82, -4.66, -4.91, -4.8 , -4.49,\n       -4.31, -3.83, -3.13, -4.24, -4.7 , -4.6 , -4.84, -4.87, -3.97,\n       -3.4 , -3.58, -3.64, -4.15, -4.28, -3.53, -4.01, -4.41, -3.59,\n       -4.45, -4.75, -5.06, -4.85, -4.23, -4.51, -4.48, -3.89, -2.36,\n       -3.37, -3.1 , -3.89, -3.18, -3.46, -3.8 , -4.46, -4.21, -4.41,\n       -2.26, -3.74, -3.2 , -2.58, -2.5 ,  0.59, -1.53, -3.01, -4.19,\n       -4.39, -5.05, -5.1 , -2.89, -5.02, -3.83, -3.93, -4.01, -0.73,\n       -1.15, -4.33, -4.98, -3.84, -4.48, -3.99, -0.74,  3.75,  2.6 ,\n        0.48,  0.88,  1.18,  0.82,  0.58, -0.68, -1.48,  1.11, -0.55,\n        0.33,  1.53,  2.18,  0.98,  1.22,  1.34,  0.8 ,  0.94,  0.42,\n       -0.35, -1.52,  0.15,  0.52,  0.64,  0.34,  0.29, -0.11, -0.05,\n        0.08,  0.13,  0.96,  0.98,  1.47,  2.12,  2.39,  2.05, -0.  ,\n        2.08, -0.74, -0.15,  0.92, -1.02, -4.  , -4.76, -6.23, -5.37,\n       -2.05, -1.34, -1.47,  1.98,  2.23, -0.38, -4.03, -1.9 , -1.36,\n       -0.1 , -0.25,  0.93,  1.31,  3.59,  3.44,  3.32,  2.81,  0.02,\n        2.21,  3.27,  2.1 ,  3.23,  3.16,  1.96,  1.4 ,  1.79,  1.64,\n       -2.07, -4.28, -4.01, -4.58, -2.8 , -2.75, -3.88, -3.53, -3.82,\n       -2.34, -0.9 , -2.3 , -2.26, -2.84, -3.41, -3.89, -3.32, -2.25,\n       -3.92, -3.38, -3.39, -0.23, -2.81, -3.44, -3.32, -3.85, -3.84,\n       -4.24, -4.25, -5.38, -5.41, -5.89, -5.79, -5.22, -4.56, -5.33,\n       -5.45, -5.6 , -5.64, -5.46, -5.81, -5.1 , -2.1 ,  0.12, -0.04,\n       -1.96, -1.92,  1.62,  2.05,  2.1 ,  1.7 ,  1.44,  0.95, -1.84,\n       -0.25,  1.19,  1.57,  1.52,  1.78,  1.  , -0.56, -0.01, -1.08,\n       -3.09, -2.34, -2.36, -1.18, -0.99, -1.43,  0.16,  1.18, -1.86,\n       -2.11, -2.33, -2.18, -2.63, -2.32, -2.35, -2.09, -3.5 , -2.07,\n       -1.73, -1.65, -1.35, -1.27, -1.83, -2.45, -1.99, -2.29, -2.68,\n       -2.91, -2.77, -3.12, -4.4 , -4.2 , -3.95, -3.87, -3.69, -3.93,\n       -3.42, -2.3 , -3.57, -2.8 , -2.64, -2.16, -2.1 , -2.39, -2.42,\n       -2.24, -2.36, -2.44, -0.28, -0.03, -0.37,  0.11,  2.1 ,  5.47,\n        0.18, -0.93, -1.02, -1.35,  0.56,  1.23,  0.5 , -0.84, -0.29,\n        0.56,  1.19,  0.12, -0.14, -0.18,  0.09,  0.07,  0.5 ,  0.59,\n       -0.52, -0.68, -0.42, -0.56, -0.71, -1.44,  0.02,  0.06, -1.19],\n      dtype=float32)"
     },
     "execution_count": 14,
     "metadata": {},
     "output_type": "execute_result"
    }
   ],
   "source": [
    "oi['BX_GSE']"
   ],
   "metadata": {
    "collapsed": false,
    "ExecuteTime": {
     "end_time": "2024-04-13T09:47:29.581392Z",
     "start_time": "2024-04-13T09:47:29.572779Z"
    }
   },
   "id": "64254f6e6288038d",
   "execution_count": 14
  },
  {
   "cell_type": "code",
   "outputs": [],
   "source": [],
   "metadata": {
    "collapsed": false
   },
   "id": "f8625dde956164e1"
  }
 ],
 "metadata": {
  "kernelspec": {
   "display_name": "Python 3",
   "language": "python",
   "name": "python3"
  },
  "language_info": {
   "codemirror_mode": {
    "name": "ipython",
    "version": 2
   },
   "file_extension": ".py",
   "mimetype": "text/x-python",
   "name": "python",
   "nbconvert_exporter": "python",
   "pygments_lexer": "ipython2",
   "version": "2.7.6"
  }
 },
 "nbformat": 4,
 "nbformat_minor": 5
}
